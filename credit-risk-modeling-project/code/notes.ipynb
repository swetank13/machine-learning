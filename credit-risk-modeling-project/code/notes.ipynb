{
 "cells": [
  {
   "cell_type": "markdown",
   "id": "b37acdb4-8884-4ee5-a286-ca93049c2b30",
   "metadata": {},
   "source": [
    "##### Domain Understanding: NBFC and Credit Approval\n",
    "- Domain understanding is critical—it is as important as technical skills. In fact, it is more important than technical skills.\n",
    "- NBFC - Non Bank Financial Company\n",
    "1. Customer Data (Personal Data)\n",
    "  - Age\n",
    "  - Employment Status\n",
    "  - Income\n",
    "  - Zip Code\n",
    "  - Residence Type\n",
    "  - Years at Current Address\n",
    "2. Bureau Data\n",
    "  - Number of open Accounts\n",
    "  - Number of Closed Accounts\n",
    "  - Inquiry Count\n",
    "  - Credit Utilization Ratio\n",
    "  - Delinquent Months\n",
    "  - Months since Last Delinquency\n",
    "3. Loan Data\n",
    "  - Loan Amount\n",
    "  - Loan Purpose\n",
    "  - Loan-to-Income Ratio\n",
    "  - Net Disbursement\n",
    "  - Sanctioned Amount\n",
    "  - Days Past Due (DPD)"
   ]
  },
  {
   "cell_type": "markdown",
   "id": "6f536ca3-54f3-4425-85fe-58e1a00e0420",
   "metadata": {},
   "source": [
    "##### Scope of work and Tech Architecture\n",
    "- Statement of Work (SOW) is an important document created at an initial stage of the project to clearly document the agreed aspects of the project and use it as a reference later.\n",
    "- The key aspects of the project include timeline, budget, key stakeholders, and deliverables.\n",
    "- CIBIL score provides the creditworthiness of a loan taker. This metric is primarily used in India.\n",
    "- Jira is one of the most popular project management tools.\n",
    "- It is important to agree on a realistic success criteria in the initial stage of the project.\n",
    "- AI explainability means how easily you can explain the model used to non-technical stakeholders.\n",
    "- Statsmodels is a library used to calculate variance inflation factor."
   ]
  },
  {
   "cell_type": "markdown",
   "id": "cba8b0bc-f813-4d34-8cbd-960ed8cb54a2",
   "metadata": {},
   "source": [
    "##### Data Collection\n",
    "- Bureau data is centralized data that provides useful metrics from all the loans taken by an individual to evaluate their credit score.\n",
    "- Delinquent months refers to the number of months an individual has missed loan installment repayments during the total loan tenure.\n",
    "- DPD (Days Past Due) is the number of days an individual has missed the loan repayment from the due date.\n",
    "- The loans data contains all the data collected from the individual when availing a loan.\n",
    "- Data collection is the most critical step of any project."
   ]
  },
  {
   "cell_type": "code",
   "execution_count": null,
   "id": "14170ac6-9805-4aea-8bcf-54edaea18520",
   "metadata": {},
   "outputs": [],
   "source": []
  }
 ],
 "metadata": {
  "kernelspec": {
   "display_name": "Python 3 (ipykernel)",
   "language": "python",
   "name": "python3"
  },
  "language_info": {
   "codemirror_mode": {
    "name": "ipython",
    "version": 3
   },
   "file_extension": ".py",
   "mimetype": "text/x-python",
   "name": "python",
   "nbconvert_exporter": "python",
   "pygments_lexer": "ipython3",
   "version": "3.12.7"
  }
 },
 "nbformat": 4,
 "nbformat_minor": 5
}
