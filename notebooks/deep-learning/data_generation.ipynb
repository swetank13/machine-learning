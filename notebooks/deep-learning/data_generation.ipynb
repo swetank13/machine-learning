{
 "cells": [
  {
   "cell_type": "code",
   "execution_count": 7,
   "id": "204a4faf",
   "metadata": {},
   "outputs": [],
   "source": [
    "import numpy as np\n",
    "import pandas as pd\n",
    "\n",
    "# Set a random seed for reproducibility\n",
    "np.random.seed(42)\n",
    "\n",
    "# Number of samples\n",
    "n_samples = 100\n",
    "\n",
    "# True weights and bias (ground truth)\n",
    "true_w1 = 12\n",
    "true_w2 = 6\n",
    "true_w3 = 2\n",
    "true_bias = 20\n",
    "\n",
    "# Generate random data for features\n",
    "employee_id = np.array([f\"EMP_{i:03}\" for i in range(1,n_samples+1)])\n",
    "performance = np.random.randint(1, 11, n_samples)  # Performance: 1 to 10\n",
    "years_of_experience = np.random.randint(1, 11, n_samples)  # Experience: 1 to 10\n",
    "# Set projects_completed based on years_of_experience + random integer between 1 and 8\n",
    "projects_completed = years_of_experience + np.random.randint(1, 4, n_samples)\n",
    "\n",
    "# Calculate the target variable (bonus) using the true weights and bias\n",
    "bonus = (true_w1 * performance) + (true_w2 * years_of_experience) + (true_w3 * projects_completed) + true_bias\n",
    "\n",
    "# Create a DataFrame\n",
    "df = pd.DataFrame({\n",
    "    'employee_id': employee_id,\n",
    "    'performance': performance,\n",
    "    'years_of_experience': years_of_experience,\n",
    "    'projects_completed': projects_completed,\n",
    "    'bonus': bonus\n",
    "})\n",
    "\n",
    "# Export the dataset to a CSV file\n",
    "file_path = 'bonus_dataset.csv'\n",
    "df.to_csv(file_path, index=False)"
   ]
  }
 ],
 "metadata": {
  "kernelspec": {
   "display_name": "Python 3 (ipykernel)",
   "language": "python",
   "name": "python3"
  },
  "language_info": {
   "codemirror_mode": {
    "name": "ipython",
    "version": 3
   },
   "file_extension": ".py",
   "mimetype": "text/x-python",
   "name": "python",
   "nbconvert_exporter": "python",
   "pygments_lexer": "ipython3",
   "version": "3.12.7"
  }
 },
 "nbformat": 4,
 "nbformat_minor": 5
}
