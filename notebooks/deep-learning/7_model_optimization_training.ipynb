{
 "cells": [
  {
   "cell_type": "markdown",
   "id": "06bf3973-4569-4f3d-aca2-47d3e3ee7230",
   "metadata": {},
   "source": [
    "### <div align=\"center\">Model Optimization: Training Algorithm</div>"
   ]
  },
  {
   "cell_type": "markdown",
   "id": "0d3ccf62-4515-4c3a-b21d-bc71c569e1bf",
   "metadata": {},
   "source": [
    "#### 7.1: Model Optimization Overview\n",
    "- Model Optimization is a process of finding the best way to train a model such that we can train it faster by using less compute resources and the model performs well during prediction phase.\n",
    "- Model Optimization:\n",
    "  1. Training Algorithm\n",
    "  2. Regularization Techniques\n",
    "  3. Hyperparameter Tuning\n",
    "- Training Algorithm\n",
    "  1. Gradient Descent\n",
    "  2. GD with Momentum\n",
    "  3. RMSProp\n",
    "  4. Adam\n",
    "- Model Optimization is a process of finding the best way to train a model such that we can train it faster by using less compute resources and the model performs well during prediction phase.\n",
    "- Model optimization can be done using various ways such as Using different optimizers (GD, Momentum, RMSProp, etc.), Regularization techniques (L1, L2, Dropout), Hyperparameter tuning and so on."
   ]
  },
  {
   "cell_type": "markdown",
   "id": "40e77998-82df-47b2-b6b5-63cf0c852b7a",
   "metadata": {},
   "source": [
    "#### 7.2: Exponentially Weighted Moving Average\n",
    "- Exponentially Weighted Moving Average (EWMA) gives more weight to recent data, smoothing out fluctuations over time\n",
    "- The decay factor (β) controls how much past data influences the current average, with higher values giving longer memory. People tend to use 0.9 as a common value for this factor"
   ]
  },
  {
   "cell_type": "markdown",
   "id": "1dac24bb-04b4-47de-8dbd-fcdb9c553a31",
   "metadata": {},
   "source": [
    "#### 7.3: Gradient Descent with Momentum\n",
    "- GD with momentum accelerates convergence by building on past gradients, reducing the time to reach the minimum.\n",
    "- The momentum term smooths out oscillations, especially in regions with steep, narrow valleys, leading to a more stable optimization path.\n",
    "- Momentum helps GD escape small local minima and flat regions, making it more effective in complex loss landscapes.\n",
    "- The momentum coefficient (β) controls how much influence previous gradients have on the current update.\n",
    "- GD with momentum is widely used in deep learning to achieve faster and more reliable training."
   ]
  },
  {
   "cell_type": "markdown",
   "id": "830cf493-43b5-4bb7-a666-e0c00deb2ac8",
   "metadata": {},
   "source": [
    "#### 7.4: RMSProp\n",
    "- RMSProp uses an Exponentially Weighted Moving Average of squared gradients to reduce oscillations.\n",
    "- Helps models converge faster and works well with noisy gradients."
   ]
  },
  {
   "cell_type": "markdown",
   "id": "d12d2551-cdf2-4a24-8834-c33a8e9848f3",
   "metadata": {},
   "source": [
    "#### 7.5: Adam\n",
    "- Adam combines momentum and RMSProp for efficient updates.\n",
    "- Tracks both mean and squared gradients to stabilize weight updates."
   ]
  },
  {
   "cell_type": "markdown",
   "id": "860ad3c6-ac07-4d1e-bdc6-879f6c4eb39e",
   "metadata": {},
   "source": [
    "#### 7.6: Optimizers in action with Fashion MNIST"
   ]
  },
  {
   "cell_type": "code",
   "execution_count": 5,
   "id": "ac0ab12e-11f2-41e5-8c2d-cc29000023b6",
   "metadata": {},
   "outputs": [],
   "source": [
    "import torch\n",
    "from torch import nn, optim\n",
    "from torchvision import datasets\n",
    "from torchvision.transforms import ToTensor\n",
    "from torch.utils.data import DataLoader\n",
    "from matplotlib import pyplot as plt"
   ]
  },
  {
   "cell_type": "code",
   "execution_count": 6,
   "id": "6465eac0-58f3-49d4-ac19-f534a0396b02",
   "metadata": {},
   "outputs": [],
   "source": [
    "training_data = datasets.FashionMNIST(\n",
    "    root=\"../../data\",\n",
    "    train=True,\n",
    "    download=True,\n",
    "    transform=ToTensor()\n",
    ")\n",
    "\n",
    "test_data = datasets.FashionMNIST(\n",
    "    root=\"../../data\",\n",
    "    train=False,\n",
    "    download=True,\n",
    "    transform=ToTensor()\n",
    ")"
   ]
  },
  {
   "cell_type": "code",
   "execution_count": 7,
   "id": "972ccd52-6b80-4aeb-9417-e696685254f6",
   "metadata": {},
   "outputs": [
    {
     "name": "stdout",
     "output_type": "stream",
     "text": [
      "torch.Size([64, 1, 28, 28]) torch.Size([64])\n"
     ]
    }
   ],
   "source": [
    "batch_size=64\n",
    "\n",
    "train_loader = DataLoader(training_data, batch_size=batch_size)\n",
    "test_loader = DataLoader(test_data, batch_size=batch_size)\n",
    "\n",
    "for images, labels in train_loader:\n",
    "    print(images.shape, labels.shape)\n",
    "    break"
   ]
  },
  {
   "cell_type": "code",
   "execution_count": 8,
   "id": "1115177f-b0a7-4e7b-b35e-178f18c862ba",
   "metadata": {},
   "outputs": [
    {
     "data": {
      "text/plain": [
       "tensor(9)"
      ]
     },
     "execution_count": 8,
     "metadata": {},
     "output_type": "execute_result"
    }
   ],
   "source": [
    "labels[0]"
   ]
  },
  {
   "cell_type": "code",
   "execution_count": 9,
   "id": "1c521b41-f0a8-466f-b503-dd33390e69ff",
   "metadata": {},
   "outputs": [
    {
     "data": {
      "text/plain": [
       "'Pullover'"
      ]
     },
     "execution_count": 9,
     "metadata": {},
     "output_type": "execute_result"
    }
   ],
   "source": [
    "classes = [\n",
    "    \"T-shirt/top\",\n",
    "    \"Trouser\",\n",
    "    \"Pullover\",\n",
    "    \"Dress\",\n",
    "    \"Coat\",\n",
    "    \"Sandal\",\n",
    "    \"Shirt\",\n",
    "    \"Sneaker\",\n",
    "    \"Bag\",\n",
    "    \"Ankle boot\",\n",
    "]\n",
    "\n",
    "classes[labels[7].item()]"
   ]
  },
  {
   "cell_type": "code",
   "execution_count": 10,
   "id": "aad53b45-4478-44c6-b5e4-67a78aadacdd",
   "metadata": {},
   "outputs": [
    {
     "data": {
      "image/png": "[encoded data removed]",
      "text/plain": [
       "<Figure size 200x200 with 1 Axes>"
      ]
     },
     "metadata": {},
     "output_type": "display_data"
    }
   ],
   "source": [
    "plt.figure(figsize=(2,2))\n",
    "plt.imshow(images[7].cpu().squeeze(), cmap='gray')\n",
    "plt.show()"
   ]
  },
  {
   "cell_type": "markdown",
   "id": "bbb3010c-d6b2-4f7a-95ef-04c3e4842a10",
   "metadata": {},
   "source": [
    "### Build Neural Network"
   ]
  },
  {
   "cell_type": "code",
   "execution_count": 11,
   "id": "4d7e1109-20a8-435e-8efb-bc3bb5f652d0",
   "metadata": {},
   "outputs": [
    {
     "data": {
      "text/plain": [
       "'cpu'"
      ]
     },
     "execution_count": 11,
     "metadata": {},
     "output_type": "execute_result"
    }
   ],
   "source": [
    "device = (\"cpu\")\n",
    "device"
   ]
  },
  {
   "cell_type": "code",
   "execution_count": 12,
   "id": "eda70c83-1dd2-4979-829b-57d4e454a317",
   "metadata": {},
   "outputs": [],
   "source": [
    "class ClothsClassifier(nn.Module):\n",
    "    def __init__(self):\n",
    "        super().__init__()\n",
    "        self.network = nn.Sequential(\n",
    "            nn.Flatten(),\n",
    "            nn.Linear(28*28, 128),\n",
    "            nn.ReLU(),\n",
    "            nn.Linear(128, 64),\n",
    "            nn.ReLU(),\n",
    "            nn.Linear(64, 10)\n",
    "        )\n",
    "        \n",
    "    def forward(self, x):\n",
    "        return self.network(x)"
   ]
  },
  {
   "cell_type": "code",
   "execution_count": 13,
   "id": "77431c45-1fec-4074-acd6-9ba338ed7cb3",
   "metadata": {},
   "outputs": [],
   "source": [
    "model = ClothsClassifier().to(device)\n",
    "loss_fn = nn.CrossEntropyLoss()\n",
    "# optimizer = optim.SGD(model.parameters(), lr=0.001)\n",
    "# optimizer = optim.SGD(model.parameters(), lr=0.001, momentum=0.9)\n",
    "optimizer = optim.Adam(model.parameters(), lr=0.001)"
   ]
  },
  {
   "cell_type": "code",
   "execution_count": 14,
   "id": "f7287c9f-8e79-4d8f-b4d7-dd0af9242407",
   "metadata": {},
   "outputs": [
    {
     "name": "stdout",
     "output_type": "stream",
     "text": [
      "Batch: 0, Loss: 2.3064370155334473\n",
      "Batch: 100, Loss: 0.7541647553443909\n",
      "Batch: 200, Loss: 0.4514106512069702\n",
      "Batch: 300, Loss: 0.6254411935806274\n",
      "Batch: 400, Loss: 0.5372046232223511\n",
      "Batch: 500, Loss: 0.4879347085952759\n",
      "Batch: 600, Loss: 0.4365442097187042\n",
      "Batch: 700, Loss: 0.6160446405410767\n",
      "Batch: 800, Loss: 0.5373719334602356\n",
      "Batch: 900, Loss: 0.5265288352966309\n",
      "Batch: 0, Loss: 0.3111097812652588\n",
      "Batch: 100, Loss: 0.4406161606311798\n",
      "Batch: 200, Loss: 0.3175817131996155\n",
      "Batch: 300, Loss: 0.44495803117752075\n",
      "Batch: 400, Loss: 0.41352298855781555\n",
      "Batch: 500, Loss: 0.39036476612091064\n",
      "Batch: 600, Loss: 0.3605786859989166\n",
      "Batch: 700, Loss: 0.5536317229270935\n",
      "Batch: 800, Loss: 0.44425585865974426\n",
      "Batch: 900, Loss: 0.4891393482685089\n"
     ]
    }
   ],
   "source": [
    "epochs = 2\n",
    "\n",
    "model.train()\n",
    "\n",
    "for epoch in range(epochs):\n",
    "    for batch, (images, labels) in enumerate(train_loader):\n",
    "        images = images.to(device)\n",
    "        labels = labels.to(device)\n",
    "        \n",
    "        pred = model(images)\n",
    "        loss = loss_fn(pred, labels)\n",
    "        \n",
    "        loss.backward()\n",
    "        optimizer.step()\n",
    "        optimizer.zero_grad()\n",
    "    \n",
    "        if batch % 100 == 0:\n",
    "            print(f\"Batch: {batch}, Loss: {loss.item()}\")"
   ]
  },
  {
   "cell_type": "code",
   "execution_count": 15,
   "id": "b89bf161-fc1f-4be4-a81d-1b20925980e3",
   "metadata": {},
   "outputs": [],
   "source": [
    "# Testing the model\n",
    "model.eval()  # Switch to evaluation mode\n",
    "\n",
    "all_predicted = []\n",
    "all_labels = []\n",
    "\n",
    "with torch.no_grad():\n",
    "    for images, labels in test_loader:\n",
    "        images = images.to(device)\n",
    "        labels = labels.to(device)\n",
    "        \n",
    "        outputs = model(images)\n",
    "        \n",
    "        _, predicted = torch.max(outputs.data, 1)\n",
    "        \n",
    "        # Append labels and predictions to lists\n",
    "        all_labels.extend(labels.cpu().numpy())    \n",
    "        all_predicted.extend(predicted.cpu().numpy()) "
   ]
  },
  {
   "cell_type": "code",
   "execution_count": 16,
   "id": "4bec3551-6212-421e-9337-77509485934c",
   "metadata": {},
   "outputs": [
    {
     "name": "stdout",
     "output_type": "stream",
     "text": [
      "              precision    recall  f1-score   support\n",
      "\n",
      "           0       0.83      0.80      0.81      1000\n",
      "           1       0.96      0.96      0.96      1000\n",
      "           2       0.85      0.54      0.66      1000\n",
      "           3       0.82      0.89      0.85      1000\n",
      "           4       0.61      0.89      0.72      1000\n",
      "           5       0.97      0.93      0.95      1000\n",
      "           6       0.69      0.54      0.61      1000\n",
      "           7       0.89      0.97      0.93      1000\n",
      "           8       0.93      0.98      0.95      1000\n",
      "           9       0.97      0.92      0.94      1000\n",
      "\n",
      "    accuracy                           0.84     10000\n",
      "   macro avg       0.85      0.84      0.84     10000\n",
      "weighted avg       0.85      0.84      0.84     10000\n",
      "\n"
     ]
    }
   ],
   "source": [
    "from sklearn.metrics import classification_report\n",
    "\n",
    "report = classification_report(all_labels, all_predicted)\n",
    "print(report)"
   ]
  }
 ],
 "metadata": {
  "kernelspec": {
   "display_name": "Python 3 (ipykernel)",
   "language": "python",
   "name": "python3"
  },
  "language_info": {
   "codemirror_mode": {
    "name": "ipython",
    "version": 3
   },
   "file_extension": ".py",
   "mimetype": "text/x-python",
   "name": "python",
   "nbconvert_exporter": "python",
   "pygments_lexer": "ipython3",
   "version": "3.12.7"
  }
 },
 "nbformat": 4,
 "nbformat_minor": 5
}
