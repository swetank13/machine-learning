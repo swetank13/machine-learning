{
 "cells": [
  {
   "cell_type": "markdown",
   "id": "04082474-977b-4f15-9308-04bd32c84466",
   "metadata": {},
   "source": [
    "### <div align=\"center\">Getting Started With PyTorch</div>"
   ]
  },
  {
   "cell_type": "markdown",
   "id": "c0cf9337-486e-4ea1-8470-2def72eb8e9f",
   "metadata": {},
   "source": [
    "##### 4.2: Matrix Fundamentals\n",
    "- Tensor is basic building blocks of deep learning.\n",
    "- When Tonsor is\n",
    "  - Single variable or number called Scalar.\n",
    "  - 1 Dimension called Vector.\n",
    "  - 2 Dimension called Matrix.\n",
    "  - 3 Dimension called Cube.\n",
    "- Matrix is a table like arrangement of numbers.\n",
    "- Matrix arithmetic (Addition, Subtraction, Multiplication etc.) helps in solving many business problems.\n",
    "- In neural networks, weights can be efficiently multiplied with the output from the previous layer using matrix multiplication. If you are using a GPU, this becomes even faster as it will use multiple cores to compute dot products in parallel.\n",
    "- Neural networks require a lot of matrix multiplications and that is the reason why GPUs got very popular for deep learning as it helps in parallel processing.\n",
    "- You can perform matrix multiplication in two ways:\n",
    "  1. Element wise multiplication (a.k.a. Hadamard product)\n",
    "  2. Matrix multiplication\n",
    "- Basic rule for matrix multiplication is that the columns in the first matrix must be equal to rows in the second matrix"
   ]
  },
  {
   "cell_type": "markdown",
   "id": "b83053ca-b9ab-4ab6-bfb2-78306f56f7ad",
   "metadata": {},
   "source": [
    "##### PyTorch Tensor Basics\n",
    "- Tensor is a generic term for scaler (0 dimension tensor), vector (1 dimension tensor), matrix (2 dimension tensor) etc.\n",
    "- Tensor can have any number of dimensions.\n",
    "- Using torch.Tensor, you can create a tensor object. Tensor objects look very much like numpy arrays. Numpy arrays can not be created on GPU directly whereas you can create a tensor object directly in GPU memory.\n",
    "- Tensor has numpy and dataframe like attributes such as dtype, shape, device etc.\n",
    "- view() method allows you to reshape the tensor\n",
    "- zeros(), ones(), rand() can be used to create a new tensor with specific values.\n",
    "- You don’t need to remember these APIs. You can always use ChatGPT and Google to take help on API syntax."
   ]
  },
  {
   "attachments": {},
   "cell_type": "markdown",
   "id": "ae75a930-42ff-48bc-b074-e3dec70f9162",
   "metadata": {},
   "source": [
    "##### 4.5: Derivative and Partial Derivative\n",
    "- Slope of a line at a given point is Derivative.\n",
    "- Derivative → Xⁿ = nX^(n-1)\n",
    "- Slope is used for Linear equations, whereas Derivative is used for non-linear equations.\n",
    "- Slope is constant, whereas Derivative is a function.\n",
    "- The purpose of a Partial Derivative is to measure how a function changes as one of its variables is varied while keeping the other variables constant.\n",
    "##### 4.6: Chain Rule\n",
    "- Chain rule is a technique used to compute the derivative of a function, composed of multiple functions.\n",
    "Chain rule will be used in the Gradient Descent Technique."
   ]
  },
  {
   "cell_type": "markdown",
   "id": "3137e522-08d7-44c4-8d67-18fb85b68334",
   "metadata": {},
   "source": [
    "##### 4.7: Autograd in PyTorch\n",
    "- Autograd feature allows to calculate gradients (i.e. partial derivatives) automatically. While training a neural network, we need to calculate gradients during backpropagation step. Automatic gradient calculation helps in this process.\n",
    "- torch.no_grad can be used if you want to temporarily stop calculating gradients."
   ]
  },
  {
   "cell_type": "code",
   "execution_count": 5,
   "id": "c34ce7ca-d433-489f-a997-98c75af21b2b",
   "metadata": {},
   "outputs": [],
   "source": [
    "import torch"
   ]
  },
  {
   "cell_type": "markdown",
   "id": "fb8f93d7-cd8f-4e68-9b0a-86a6a7b12f43",
   "metadata": {},
   "source": [
    "##### Gradient for a single input"
   ]
  },
  {
   "cell_type": "code",
   "execution_count": 6,
   "id": "29355e3c-20e9-4026-8a7b-882d80538dee",
   "metadata": {},
   "outputs": [
    {
     "data": {
      "text/plain": [
       "tensor(425., dtype=torch.float16, grad_fn=<AddBackward0>)"
      ]
     },
     "execution_count": 6,
     "metadata": {},
     "output_type": "execute_result"
    }
   ],
   "source": [
    "material_cost = torch.tensor(10, requires_grad=True, dtype=torch.float16)\n",
    "labor_cost = torch.tensor(5, requires_grad=True, dtype=torch.float16)\n",
    "\n",
    "total_cost = 3*material_cost**2 + 5*labor_cost + 100\n",
    "total_cost"
   ]
  },
  {
   "cell_type": "code",
   "execution_count": 7,
   "id": "40886dae-5e3d-47f9-a5ab-4cfcdd521d32",
   "metadata": {},
   "outputs": [
    {
     "data": {
      "text/plain": [
       "(tensor(60., dtype=torch.float16), tensor(5., dtype=torch.float16))"
      ]
     },
     "execution_count": 7,
     "metadata": {},
     "output_type": "execute_result"
    }
   ],
   "source": [
    "total_cost.backward()\n",
    "material_cost.grad, labor_cost.grad"
   ]
  },
  {
   "cell_type": "code",
   "execution_count": 8,
   "id": "53a9baf3-6a88-4e93-a89b-979be1efaa3d",
   "metadata": {},
   "outputs": [
    {
     "data": {
      "text/plain": [
       "True"
      ]
     },
     "execution_count": 8,
     "metadata": {},
     "output_type": "execute_result"
    }
   ],
   "source": [
    "total_cost.requires_grad"
   ]
  },
  {
   "cell_type": "markdown",
   "id": "a510a4d9-d407-4692-b4c6-f86b6b4b11e2",
   "metadata": {},
   "source": [
    "##### Disable gradient computation"
   ]
  },
  {
   "cell_type": "code",
   "execution_count": 9,
   "id": "cb4d6133-3f7d-4ab3-80ec-d4a67e6d82d1",
   "metadata": {},
   "outputs": [
    {
     "name": "stdout",
     "output_type": "stream",
     "text": [
      "Outside no_grad:  True\n",
      "Inside no_grad:  False\n"
     ]
    }
   ],
   "source": [
    "x = torch.tensor(4, requires_grad=True, dtype=torch.float16)\n",
    "y = x**2 + 5\n",
    "print(\"Outside no_grad: \", y.requires_grad)\n",
    "\n",
    "# y.backward()\n",
    "# print(x.grad)\n",
    "    \n",
    "with torch.no_grad():\n",
    "    y = x**2 + 5\n",
    "    print(\"Inside no_grad: \", y.requires_grad)"
   ]
  },
  {
   "cell_type": "markdown",
   "id": "0b3afee4-536b-4d89-8c86-87a5a6cd9ef8",
   "metadata": {},
   "source": [
    "#### Gradient for a vector"
   ]
  },
  {
   "cell_type": "code",
   "execution_count": 11,
   "id": "db3ed504-aa08-4c08-b578-378deef65bee",
   "metadata": {},
   "outputs": [
    {
     "data": {
      "text/plain": [
       "tensor([ 9., 23., 61.], dtype=torch.float16, grad_fn=<AddBackward0>)"
      ]
     },
     "execution_count": 11,
     "metadata": {},
     "output_type": "execute_result"
    }
   ],
   "source": [
    "x = torch.tensor([1,2,3],requires_grad=True,dtype=torch.float16)\n",
    "# x = torch.tensor([[1,2],[3,4]],requires_grad=True,dtype=torch.float16)\n",
    "\n",
    "y = 2 * x ** 3 + 7 \n",
    "y"
   ]
  },
  {
   "cell_type": "code",
   "execution_count": 12,
   "id": "342c7ab3-5720-48e1-8c3f-9c0e9be56632",
   "metadata": {},
   "outputs": [
    {
     "data": {
      "text/plain": [
       "tensor(93., dtype=torch.float16, grad_fn=<SumBackward0>)"
      ]
     },
     "execution_count": 12,
     "metadata": {},
     "output_type": "execute_result"
    }
   ],
   "source": [
    "result = y.sum()\n",
    "result"
   ]
  },
  {
   "cell_type": "code",
   "execution_count": 13,
   "id": "f315dbb6-a2ba-42d6-9042-9834d9cd68d1",
   "metadata": {},
   "outputs": [
    {
     "data": {
      "text/plain": [
       "tensor([ 6., 24., 54.], dtype=torch.float16)"
      ]
     },
     "execution_count": 13,
     "metadata": {},
     "output_type": "execute_result"
    }
   ],
   "source": [
    "result.backward()\n",
    "x.grad"
   ]
  },
  {
   "cell_type": "markdown",
   "id": "ee6ce60c-33ff-4bbb-9a2d-49cf6f35d3a6",
   "metadata": {},
   "source": [
    "##### 4.8: Numpy Arrays Vs PyTorch Tensors\n",
    "- PyTorch tensors and numpy arrays have similar functionality but tensor offers 3 key benefits over numpy arrays that are useful in deep learning.\n",
    "  - Benefit 1: Tensor come with in built support to leverage GPU acceleration.\n",
    "  - Benefit 2: Tensors have autograd features that computes gradients automatically. Numpy arrays do not have this feature.\n",
    "  - Benefit 3: Tensors are tightly integrated with PyTorch ecosystem that makes it easier to use with deep learning tasks."
   ]
  },
  {
   "cell_type": "markdown",
   "id": "a196eb45-8d71-4f38-adbe-6ba434b3cfa1",
   "metadata": {},
   "source": [
    "### Problem Statement: **Welcome to AI Town!**\n",
    "\n",
    "##### You’ve been hired as an AI engineer in **AI Town**, a futuristic city powered by artificial intelligence. Your job is to use PyTorch to solve foundational challenges that AI Town faces. Each task requires you to demonstrate your expertise with PyTorch basics."
   ]
  },
  {
   "cell_type": "code",
   "execution_count": 14,
   "id": "29c80357-0dfd-402f-ae0f-a4d4ab8f6ec7",
   "metadata": {},
   "outputs": [
    {
     "name": "stdout",
     "output_type": "stream",
     "text": [
      "Using device: cpu\n"
     ]
    }
   ],
   "source": [
    "# Imports and CUDA\n",
    "import torch\n",
    "\n",
    "# Check if CUDA (GPU) is available\n",
    "device = torch.device('cuda' if torch.cuda.is_available() else 'cpu')\n",
    "print(f\"Using device: {device}\")"
   ]
  },
  {
   "cell_type": "markdown",
   "id": "718bd81f-b484-42ca-8b02-6b6582954235",
   "metadata": {},
   "source": [
    "**Task1: Inventory Management**\n",
    "\n",
    "AI Town’s warehouse uses sensors to record the inventory of 5 items every day. Each day’s data is represented as a list of integers (number of units)."
   ]
  },
  {
   "cell_type": "code",
   "execution_count": 15,
   "id": "9f49ba97-9c86-4099-933c-7e1d4b988385",
   "metadata": {},
   "outputs": [
    {
     "name": "stdout",
     "output_type": "stream",
     "text": [
      "tensor([[12, 15, 10,  0,  5],\n",
      "        [10,  8,  7,  5,  4],\n",
      "        [20, 10, 15,  5,  2]])\n"
     ]
    }
   ],
   "source": [
    "#1 Create a PyTorch Tensor from the following inventory data\n",
    "inventory = [[12, 15, 10, 0, 5],\n",
    "             [10, 8, 7, 5, 4],\n",
    "             [20, 10, 15, 5, 2]]\n",
    "\n",
    "inventory_tensor = torch.tensor(inventory)\n",
    "print(inventory_tensor)"
   ]
  },
  {
   "cell_type": "code",
   "execution_count": 16,
   "id": "fc096a43-dfff-4513-9059-873afbec40fc",
   "metadata": {},
   "outputs": [
    {
     "name": "stdout",
     "output_type": "stream",
     "text": [
      "tensor([42, 33, 32, 10, 11])\n"
     ]
    }
   ],
   "source": [
    "#2 Find the total inventory for each item across all days\n",
    "total_inventory = inventory_tensor.sum(dim=0) # sum across rows\n",
    "print(total_inventory)"
   ]
  },
  {
   "cell_type": "code",
   "execution_count": 17,
   "id": "ad1f06cd-5126-43e5-aba5-270381986337",
   "metadata": {},
   "outputs": [
    {
     "name": "stdout",
     "output_type": "stream",
     "text": [
      "tensor([ 8.4000,  6.8000, 10.4000])\n"
     ]
    }
   ],
   "source": [
    "#3 Find the average inventory per day\n",
    "'''mean() function in PyTorch requires the tensor to be a floating-point type (e.g., float32 or float64)\n",
    "'''\n",
    "average_inventory = inventory_tensor.float().mean(dim=1) # mean across columns\n",
    "print(average_inventory)"
   ]
  },
  {
   "cell_type": "markdown",
   "id": "5f38c85d-5e26-43c6-b1c6-ed218a220d8f",
   "metadata": {},
   "source": [
    "OR"
   ]
  },
  {
   "cell_type": "code",
   "execution_count": 18,
   "id": "4bc33b93-4db9-437d-b36c-d9fdf05c9828",
   "metadata": {},
   "outputs": [
    {
     "name": "stdout",
     "output_type": "stream",
     "text": [
      "tensor([ 8.4000,  6.8000, 10.4000])\n"
     ]
    }
   ],
   "source": [
    "average_inventory = inventory_tensor.mean(dim=1, dtype=torch.float32) # mean across columns\n",
    "print(average_inventory)"
   ]
  },
  {
   "cell_type": "markdown",
   "id": "bb2387c2-16f1-4c8d-bb87-f34638e3ce4f",
   "metadata": {},
   "source": [
    "**KEY INSIGHTS**\n",
    "\n",
    "* dim=0 means summing across rows (column-wise), while dim=1 sums across columns (row-wise).\n",
    "* Tensor operations are efficient and avoid explicit loops."
   ]
  },
  {
   "cell_type": "markdown",
   "id": "17918a12-70ea-4832-aee9-aee3fc8d2365",
   "metadata": {},
   "source": [
    "**Task2: Monitoring Vehicle Flow**\n",
    "\n",
    "AI Town uses a sensor to monitor the number of vehicles passing through two main roads every hour. The data for one day (24 hours) is represented as two\n",
    "1×24 tensors."
   ]
  },
  {
   "cell_type": "code",
   "execution_count": 19,
   "id": "c2a2d882-c76d-45aa-988b-408a7f487e24",
   "metadata": {},
   "outputs": [
    {
     "name": "stdout",
     "output_type": "stream",
     "text": [
      "tensor([147, 163,  98,  93, 199, 184, 133, 191, 189, 126, 155,  98, 109,  65,\n",
      "        193, 140,  67,  71, 121, 183, 110, 140, 178, 122])\n",
      "tensor([157, 123,  80,  92,  97, 165,  76, 181, 156, 155, 175,  84, 136, 151,\n",
      "        183, 124, 102, 132, 188, 166, 167,  64, 128, 161])\n"
     ]
    }
   ],
   "source": [
    "#1 Simulate this data using PyTorch's Random Functions\n",
    "road1 = torch.randint(50, 200, (24,))\n",
    "road2 = torch.randint(50, 200, (24,))\n",
    "print(road1)\n",
    "print(road2)"
   ]
  },
  {
   "cell_type": "code",
   "execution_count": 20,
   "id": "6a115957-ce80-47c0-bb77-b39cba7172a9",
   "metadata": {},
   "outputs": [
    {
     "name": "stdout",
     "output_type": "stream",
     "text": [
      "tensor(3275)\n",
      "tensor(3243)\n"
     ]
    }
   ],
   "source": [
    "#2 Write the function to calculate the total vehicle flow for each road across the entire day\n",
    "total_flow_road1 = road1.sum() # total for road1\n",
    "total_flow_road2 = road2.sum() # total for road2\n",
    "print(total_flow_road1)\n",
    "print(total_flow_road2)"
   ]
  },
  {
   "cell_type": "code",
   "execution_count": 21,
   "id": "0d4819f8-ab69-4080-814d-3507bbb53456",
   "metadata": {},
   "outputs": [
    {
     "name": "stdout",
     "output_type": "stream",
     "text": [
      "\n"
     ]
    }
   ],
   "source": [
    "#3 Write the function to calculate the total vehicle flow for each hour across both roads\n",
    "total_flow_hourly  = road1 + road2\n",
    "print()"
   ]
  },
  {
   "cell_type": "markdown",
   "id": "99648814-41ab-4681-872e-3dd784ae9f62",
   "metadata": {},
   "source": [
    "**KEY INSIGHTS**\n",
    "\n",
    "* Use torch.randint() for simulating random data in a specific range.\n",
    "* Element-wise addition works seamlessly on tensors of the same shape.\n",
    "\n",
    "---"
   ]
  },
  {
   "cell_type": "markdown",
   "id": "9009dfb3-1db5-4289-8fd0-d56dad241918",
   "metadata": {},
   "source": [
    "**Task3: Fitness Matrix**\n",
    "\n",
    "The AI Gym tracks members’ fitness scores using a 3×3 matrix for *strength*, *stamina*, and f*lexibility*. Each row represents a different member, and each column represents a specific metric."
   ]
  },
  {
   "cell_type": "code",
   "execution_count": 23,
   "id": "8f3c72ce-1a75-4eca-b1ab-ff770fc0475b",
   "metadata": {},
   "outputs": [
    {
     "name": "stdout",
     "output_type": "stream",
     "text": [
      "tensor([[  8.0000,  24.0000,  45.0000],\n",
      "        [ 32.0000,  60.0000,  90.0000],\n",
      "        [ 56.0000,  96.0000, 135.0000]])\n"
     ]
    }
   ],
   "source": [
    "#1 Create a 3*3 tensor matrix and multiply the scores of each member by a weight factor: [0.8, 1.2, 1.5]\n",
    "fitness = torch.tensor([[10, 20, 30],\n",
    "                        [40, 50, 60],\n",
    "                        [70, 80, 90]])\n",
    "weights = torch.tensor([0.8, 1.2, 1.5])\n",
    "weighted_fitness = weights * fitness\n",
    "print(weighted_fitness)"
   ]
  },
  {
   "cell_type": "code",
   "execution_count": 24,
   "id": "16a9c9df-f18a-4ad5-84db-4bac91f98483",
   "metadata": {},
   "outputs": [
    {
     "name": "stdout",
     "output_type": "stream",
     "text": [
      "torch.return_types.max(\n",
      "values=tensor([ 45.,  90., 135.]),\n",
      "indices=tensor([2, 2, 2]))\n",
      "torch.return_types.max(\n",
      "values=tensor([ 56.,  96., 135.]),\n",
      "indices=tensor([2, 2, 2]))\n"
     ]
    }
   ],
   "source": [
    "#2 Find the row-wise and column-wise maximum scores\n",
    "row_max = weighted_fitness.max(dim=1) # max for each row\n",
    "col_max = weighted_fitness.max(dim=0) # max for each column\n",
    "print(row_max)\n",
    "print(col_max)"
   ]
  },
  {
   "cell_type": "code",
   "execution_count": 25,
   "id": "c5adb3e4-41c7-4f60-b86c-592defbfd87c",
   "metadata": {},
   "outputs": [
    {
     "name": "stdout",
     "output_type": "stream",
     "text": [
      "tensor([[10, 40, 70],\n",
      "        [20, 50, 80],\n",
      "        [30, 60, 90]])\n"
     ]
    }
   ],
   "source": [
    "#3 Transpose the fitness matrix and interpret it's new structure (shape)\n",
    "transposed_fitness = fitness.t()\n",
    "print(transposed_fitness)"
   ]
  },
  {
   "cell_type": "markdown",
   "id": "967775d3-c6bd-46a6-86fd-92d45aaf7818",
   "metadata": {},
   "source": [
    "**KEY INSIGHTS**\n",
    "\n",
    "Learn [Broadcasting](https://pytorch.org/docs/stable/notes/broadcasting.html) and do changes in 'weighted fitness', the output will remain the same"
   ]
  },
  {
   "cell_type": "markdown",
   "id": "451b6516-08ce-4e95-ab58-2fa6c104dd05",
   "metadata": {},
   "source": [
    "**Task4: Chain Rule in Action**\n",
    "\n",
    "AI Lab is running experiments to understand the effect of temperature (\n",
    "x) on a chemical reaction rate (y). The relationship is given as:\n",
    "$y = 2x^3 + 5x^2 - 3x + 7$"
   ]
  },
  {
   "cell_type": "code",
   "execution_count": 27,
   "id": "652ec7cf-0b7f-4c79-ab06-ffbee7263cdd",
   "metadata": {},
   "outputs": [
    {
     "name": "stdout",
     "output_type": "stream",
     "text": [
      "tensor(203., grad_fn=<AddBackward0>)\n"
     ]
    }
   ],
   "source": [
    "#1 Use PyTorch to compute 'y' for x = 4\n",
    "\n",
    "# let's define x first\n",
    "x = torch.tensor(4.0, requires_grad=True)\n",
    "\n",
    "# now define y\n",
    "y = 2*x**3 + 5*x**2 - 3*x + 7\n",
    "\n",
    "print(y)"
   ]
  },
  {
   "cell_type": "code",
   "execution_count": 28,
   "id": "9f70fde3-8f70-42a8-8811-30d887aab6ec",
   "metadata": {},
   "outputs": [
    {
     "name": "stdout",
     "output_type": "stream",
     "text": [
      "tensor(133.)\n"
     ]
    }
   ],
   "source": [
    "#2 Calculate dy/dx (gradient) using PyTorch's autograd\n",
    "y.backward(retain_graph = True)\n",
    "gradient = x.grad\n",
    "\n",
    "print(gradient)"
   ]
  },
  {
   "cell_type": "markdown",
   "id": "24c9b549-a1c0-42bb-bbf8-1cc18d655f3e",
   "metadata": {},
   "source": [
    "**KEY INSIGHTS**\n",
    "\n",
    "* If you need to call .backward() on the same graph multiple times, you need to specify retain_graph=True when calling .backward()\n",
    "* *WHY*? because in PyTorch, the computational graph used for the operation is freed by default to save memory"
   ]
  },
  {
   "cell_type": "markdown",
   "id": "8b35c24a-e49f-4b9f-b173-588083659aa7",
   "metadata": {},
   "source": [
    "**Task5: Camera Calibration**\n",
    "\n",
    "AI Town’s surveillance cameras need to align their focus. You are given the following matrices for two cameras’ focus adjustments:"
   ]
  },
  {
   "cell_type": "code",
   "execution_count": 29,
   "id": "394e8017-a99e-48ab-93d4-9ca8baf0cedc",
   "metadata": {},
   "outputs": [],
   "source": [
    "camera1 = torch.tensor([[1, 2], [3, 4]])\n",
    "camera2 = torch.tensor([[5, 6], [7, 8]])"
   ]
  },
  {
   "cell_type": "code",
   "execution_count": 30,
   "id": "094e400b-46c2-4965-b5b6-7536e3628562",
   "metadata": {},
   "outputs": [
    {
     "name": "stdout",
     "output_type": "stream",
     "text": [
      "tensor([[ 5, 12],\n",
      "        [21, 32]])\n"
     ]
    }
   ],
   "source": [
    "#1 Perform an element-wise multiplication of matrices ( Hadamard Product)\n",
    "elementwise_product = camera1 * camera2\n",
    "print(elementwise_product)"
   ]
  },
  {
   "cell_type": "code",
   "execution_count": 31,
   "id": "b6732b03-dad7-487c-8747-b99e124092ef",
   "metadata": {},
   "outputs": [
    {
     "name": "stdout",
     "output_type": "stream",
     "text": [
      "tensor([[19, 22],\n",
      "        [43, 50]])\n"
     ]
    }
   ],
   "source": [
    "#2 Compute Dot Product of the two matrices\n",
    "dot_product = torch.matmul(camera1, camera2)\n",
    "print(dot_product)"
   ]
  },
  {
   "cell_type": "code",
   "execution_count": 32,
   "id": "a1875efc-bbec-4b9a-a44f-76f37980c2f9",
   "metadata": {},
   "outputs": [
    {
     "name": "stdout",
     "output_type": "stream",
     "text": [
      "tensor(-2.)\n",
      "tensor(-2.0000)\n"
     ]
    }
   ],
   "source": [
    "#3 Compute the Determinant of each matrix\n",
    "det_camera1 = torch.det(camera1.float())\n",
    "det_camera2 = torch.det(camera2.float())\n",
    "print(det_camera1)\n",
    "print(det_camera2)"
   ]
  },
  {
   "cell_type": "markdown",
   "id": "d398eee1-26bb-4051-92e1-296e103044a0",
   "metadata": {},
   "source": [
    "**KEY INSIGHTS**:\n",
    "\n",
    "* Use **torch.matmul()** for matrix multiplication and \"*\" for element-wise multiplication.\n",
    "* Determinants work only on square matrices."
   ]
  },
  {
   "cell_type": "markdown",
   "id": "cdefa7f7-25ce-4c43-9ef0-433f6ae36a0c",
   "metadata": {},
   "source": [
    "**Task6: Neural Network Foundations**\n",
    "\n",
    "Our AI University uses simplified single neuron model (perceptron):\n",
    "$$y = wx + b$$"
   ]
  },
  {
   "cell_type": "code",
   "execution_count": 34,
   "id": "eba15305-7d09-438a-97f4-304f9207cf22",
   "metadata": {},
   "outputs": [
    {
     "name": "stdout",
     "output_type": "stream",
     "text": [
      "tensor(2., requires_grad=True)\n",
      "tensor(1., requires_grad=True)\n",
      "tensor([1, 2, 3, 4])\n"
     ]
    }
   ],
   "source": [
    "#1 Create tensors for w  = 2, b = 1, x = [1, 2, 3, 4]\n",
    "w = torch.tensor(2.0, requires_grad=True)\n",
    "b = torch.tensor(1.0, requires_grad=True)\n",
    "\n",
    "x = torch.tensor([1, 2, 3, 4])\n",
    "print(w)\n",
    "print(b)\n",
    "print(x)"
   ]
  },
  {
   "cell_type": "code",
   "execution_count": 35,
   "id": "6dba00e2-946e-4802-b194-7a69b6ed3f97",
   "metadata": {},
   "outputs": [
    {
     "name": "stdout",
     "output_type": "stream",
     "text": [
      "tensor([3., 5., 7., 9.], grad_fn=<AddBackward0>)\n"
     ]
    }
   ],
   "source": [
    "#2 Compute tensors for y\n",
    "y = w * x + b\n",
    "print(y)"
   ]
  },
  {
   "cell_type": "markdown",
   "id": "49926329-8f6d-4106-b4bf-696b60c69487",
   "metadata": {},
   "source": [
    "PyTorch tracks gradients for all **requires_grad=True** tensors."
   ]
  }
 ],
 "metadata": {
  "kernelspec": {
   "display_name": "Python 3 (ipykernel)",
   "language": "python",
   "name": "python3"
  },
  "language_info": {
   "codemirror_mode": {
    "name": "ipython",
    "version": 3
   },
   "file_extension": ".py",
   "mimetype": "text/x-python",
   "name": "python",
   "nbconvert_exporter": "python",
   "pygments_lexer": "ipython3",
   "version": "3.12.7"
  }
 },
 "nbformat": 4,
 "nbformat_minor": 5
}
