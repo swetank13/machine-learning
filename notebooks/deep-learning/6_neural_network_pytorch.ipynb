{
 "cells": [
  {
   "cell_type": "markdown",
   "id": "e1bdc7ce-497e-418e-b2f7-749ea614949d",
   "metadata": {},
   "source": [
    "### <div align=\"center\">Neural Networks in PyTorch</div>"
   ]
  },
  {
   "cell_type": "markdown",
   "id": "e40e0760-02c0-46ce-841a-2ab63fe19a7a",
   "metadata": {},
   "source": [
    "#### 6.1: Employee Bonus Prediction\n",
    "- nn.Module is a base class for all neural network modules.\n",
    "- A usual practice is to create a subclass out of nn.Module to define your own neural network architecture.\n",
    "- Calling model(train_data) will internally call the forward method on your subclass."
   ]
  },
  {
   "cell_type": "code",
   "execution_count": 6,
   "id": "62c8894f-3ddd-4cfe-87ef-040ceadf53e3",
   "metadata": {},
   "outputs": [],
   "source": [
    "# Imports\n",
    "import pandas as pd\n",
    "from sklearn.model_selection import train_test_split\n",
    "import torch\n",
    "import torch.nn as nn\n",
    "import torch.optim as optim"
   ]
  },
  {
   "cell_type": "code",
   "execution_count": 3,
   "id": "43a454c7-3608-4d31-86a1-7c9d3c56aea4",
   "metadata": {},
   "outputs": [
    {
     "data": {
      "text/html": [
       "<div>\n",
       "<style scoped>\n",
       "    .dataframe tbody tr th:only-of-type {\n",
       "        vertical-align: middle;\n",
       "    }\n",
       "\n",
       "    .dataframe tbody tr th {\n",
       "        vertical-align: top;\n",
       "    }\n",
       "\n",
       "    .dataframe thead th {\n",
       "        text-align: right;\n",
       "    }\n",
       "</style>\n",
       "<table border=\"1\" class=\"dataframe\">\n",
       "  <thead>\n",
       "    <tr style=\"text-align: right;\">\n",
       "      <th></th>\n",
       "      <th>employee_id</th>\n",
       "      <th>performance</th>\n",
       "      <th>years_of_experience</th>\n",
       "      <th>projects_completed</th>\n",
       "      <th>bonus</th>\n",
       "    </tr>\n",
       "  </thead>\n",
       "  <tbody>\n",
       "    <tr>\n",
       "      <th>0</th>\n",
       "      <td>EMP_001</td>\n",
       "      <td>7</td>\n",
       "      <td>2</td>\n",
       "      <td>4</td>\n",
       "      <td>124</td>\n",
       "    </tr>\n",
       "    <tr>\n",
       "      <th>1</th>\n",
       "      <td>EMP_002</td>\n",
       "      <td>4</td>\n",
       "      <td>1</td>\n",
       "      <td>4</td>\n",
       "      <td>82</td>\n",
       "    </tr>\n",
       "    <tr>\n",
       "      <th>2</th>\n",
       "      <td>EMP_003</td>\n",
       "      <td>8</td>\n",
       "      <td>7</td>\n",
       "      <td>10</td>\n",
       "      <td>178</td>\n",
       "    </tr>\n",
       "    <tr>\n",
       "      <th>3</th>\n",
       "      <td>EMP_004</td>\n",
       "      <td>5</td>\n",
       "      <td>7</td>\n",
       "      <td>8</td>\n",
       "      <td>138</td>\n",
       "    </tr>\n",
       "    <tr>\n",
       "      <th>4</th>\n",
       "      <td>EMP_005</td>\n",
       "      <td>7</td>\n",
       "      <td>8</td>\n",
       "      <td>9</td>\n",
       "      <td>170</td>\n",
       "    </tr>\n",
       "  </tbody>\n",
       "</table>\n",
       "</div>"
      ],
      "text/plain": [
       "  employee_id  performance  years_of_experience  projects_completed  bonus\n",
       "0     EMP_001            7                    2                   4    124\n",
       "1     EMP_002            4                    1                   4     82\n",
       "2     EMP_003            8                    7                  10    178\n",
       "3     EMP_004            5                    7                   8    138\n",
       "4     EMP_005            7                    8                   9    170"
      ]
     },
     "execution_count": 3,
     "metadata": {},
     "output_type": "execute_result"
    }
   ],
   "source": [
    "# Load data from CSV file\n",
    "df = pd.read_csv(\"../../data/bonus_dataset.csv\")\n",
    "df.head()"
   ]
  },
  {
   "cell_type": "markdown",
   "id": "46be63a6-9deb-4869-bdd7-154f501f023d",
   "metadata": {},
   "source": [
    "##### Train Test Split"
   ]
  },
  {
   "cell_type": "code",
   "execution_count": 5,
   "id": "7058620e-9bd0-42bd-bce2-c1e8053022ef",
   "metadata": {},
   "outputs": [],
   "source": [
    "# Separate features and target\n",
    "X = df[['performance', 'years_of_experience', 'projects_completed']].values\n",
    "y = df[['bonus']].values  # Ensure target is a 2D array for compatibility\n",
    "\n",
    "# Split data into train and test sets\n",
    "X_train, X_test, y_train, y_test = train_test_split(X, y, test_size=0.2, random_state=0)"
   ]
  },
  {
   "cell_type": "markdown",
   "id": "020171bb-2a60-406b-bae5-1db132dc65ba",
   "metadata": {},
   "source": [
    "##### Train a Neural Network"
   ]
  },
  {
   "cell_type": "code",
   "execution_count": 7,
   "id": "cd858245-4f9f-48e0-bb21-c38589f4beea",
   "metadata": {},
   "outputs": [],
   "source": [
    "# Seed for reproducibility\n",
    "torch.manual_seed(0)\n",
    "\n",
    "# Convert to PyTorch tensors\n",
    "X_train_tensor = torch.tensor(X_train, dtype=torch.float32)\n",
    "y_train_tensor = torch.tensor(y_train, dtype=torch.float32)\n",
    "X_test_tensor = torch.tensor(X_test, dtype=torch.float32)\n",
    "y_test_tensor = torch.tensor(y_test, dtype=torch.float32)"
   ]
  },
  {
   "cell_type": "code",
   "execution_count": 8,
   "id": "41c0838c-272b-49bd-8be3-ee94a5dd55c2",
   "metadata": {},
   "outputs": [],
   "source": [
    "class BonusPredictor(nn.Module):\n",
    "    def __init__(self):\n",
    "        super().__init__()\n",
    "        self.network = nn.Sequential(\n",
    "            nn.Linear(3, 1),  # 3 input features -> 1 output neuron\n",
    "        )\n",
    "\n",
    "    def forward(self, x):\n",
    "        return self.network(x)"
   ]
  },
  {
   "cell_type": "code",
   "execution_count": 9,
   "id": "ce98691c-2de9-4a35-b517-92526cd1a142",
   "metadata": {},
   "outputs": [],
   "source": [
    "model = BonusPredictor()\n",
    "criterion = nn.MSELoss()\n",
    "optimizer = optim.SGD(model.parameters(), lr=0.005)"
   ]
  },
  {
   "cell_type": "code",
   "execution_count": 10,
   "id": "d48d0b0f-9b5a-4c84-8847-206f23e689d5",
   "metadata": {},
   "outputs": [
    {
     "name": "stdout",
     "output_type": "stream",
     "text": [
      "Epoch [100/5000], Loss: 19.62\n",
      "Epoch [200/5000], Loss: 17.46\n",
      "Epoch [300/5000], Loss: 15.56\n",
      "Epoch [400/5000], Loss: 13.88\n",
      "Epoch [500/5000], Loss: 12.38\n",
      "Epoch [600/5000], Loss: 11.05\n",
      "Epoch [700/5000], Loss: 9.86\n",
      "Epoch [800/5000], Loss: 8.80\n",
      "Epoch [900/5000], Loss: 7.85\n",
      "Epoch [1000/5000], Loss: 7.01\n",
      "Epoch [1100/5000], Loss: 6.25\n",
      "Epoch [1200/5000], Loss: 5.58\n",
      "Epoch [1300/5000], Loss: 4.98\n",
      "Epoch [1400/5000], Loss: 4.44\n",
      "Epoch [1500/5000], Loss: 3.96\n",
      "Epoch [1600/5000], Loss: 3.54\n",
      "Epoch [1700/5000], Loss: 3.16\n",
      "Epoch [1800/5000], Loss: 2.82\n",
      "Epoch [1900/5000], Loss: 2.51\n",
      "Epoch [2000/5000], Loss: 2.24\n",
      "Epoch [2100/5000], Loss: 2.00\n",
      "Epoch [2200/5000], Loss: 1.79\n",
      "Epoch [2300/5000], Loss: 1.59\n",
      "Epoch [2400/5000], Loss: 1.42\n",
      "Epoch [2500/5000], Loss: 1.27\n",
      "Epoch [2600/5000], Loss: 1.13\n",
      "Epoch [2700/5000], Loss: 1.01\n",
      "Epoch [2800/5000], Loss: 0.90\n",
      "Epoch [2900/5000], Loss: 0.81\n",
      "Epoch [3000/5000], Loss: 0.72\n",
      "Epoch [3100/5000], Loss: 0.64\n",
      "Epoch [3200/5000], Loss: 0.57\n",
      "Epoch [3300/5000], Loss: 0.51\n",
      "Epoch [3400/5000], Loss: 0.46\n",
      "Epoch [3500/5000], Loss: 0.41\n",
      "Epoch [3600/5000], Loss: 0.36\n",
      "Epoch [3700/5000], Loss: 0.32\n",
      "Epoch [3800/5000], Loss: 0.29\n",
      "Epoch [3900/5000], Loss: 0.26\n",
      "Epoch [4000/5000], Loss: 0.23\n",
      "Epoch [4100/5000], Loss: 0.21\n",
      "Epoch [4200/5000], Loss: 0.18\n",
      "Epoch [4300/5000], Loss: 0.16\n",
      "Epoch [4400/5000], Loss: 0.15\n",
      "Epoch [4500/5000], Loss: 0.13\n",
      "Epoch [4600/5000], Loss: 0.12\n",
      "Epoch [4700/5000], Loss: 0.10\n",
      "Epoch [4800/5000], Loss: 0.09\n",
      "Epoch [4900/5000], Loss: 0.08\n",
      "Epoch [5000/5000], Loss: 0.07\n"
     ]
    }
   ],
   "source": [
    "# Training loop\n",
    "epochs = 5000\n",
    "for epoch in range(epochs):\n",
    "    # Forward pass: Compute predicted bonus by passing X_train\n",
    "    predictions = model(X_train_tensor)\n",
    "    loss = criterion(predictions, y_train_tensor)\n",
    "\n",
    "    # Backward pass: Compute gradients\n",
    "    optimizer.zero_grad()\n",
    "    loss.backward()\n",
    "\n",
    "    # Update parameters\n",
    "    optimizer.step()\n",
    "\n",
    "    # Print loss every 100 epochs\n",
    "    if (epoch + 1) % 100 == 0:\n",
    "        print(f\"Epoch [{epoch + 1}/{epochs}], Loss: {loss.item():.2f}\")"
   ]
  },
  {
   "cell_type": "code",
   "execution_count": 11,
   "id": "441085ba-dbfd-4105-ac21-0694b6c724dd",
   "metadata": {},
   "outputs": [
    {
     "name": "stdout",
     "output_type": "stream",
     "text": [
      "Test Loss: 0.0725\n"
     ]
    }
   ],
   "source": [
    "# Switch to evaluation mode (important for models with dropout/batch norm layers)\n",
    "model.eval()\n",
    "\n",
    "# Disable gradient calculations for evaluation to save memory\n",
    "with torch.no_grad():\n",
    "    test_predictions = model(X_test_tensor)\n",
    "    test_loss = criterion(test_predictions, y_test_tensor)\n",
    "\n",
    "print(f\"Test Loss: {test_loss.item():.4f}\")"
   ]
  },
  {
   "cell_type": "code",
   "execution_count": 12,
   "id": "abe8b892-7415-4e54-b4e1-90184faf9a88",
   "metadata": {},
   "outputs": [
    {
     "data": {
      "text/plain": [
       "tensor([[10.,  4.,  7.],\n",
       "        [ 3.,  5.,  8.],\n",
       "        [ 8.,  7., 10.]])"
      ]
     },
     "execution_count": 12,
     "metadata": {},
     "output_type": "execute_result"
    }
   ],
   "source": [
    "X_test_tensor[:3]"
   ]
  },
  {
   "cell_type": "code",
   "execution_count": 13,
   "id": "5a0f276a-a873-484a-ba51-656f7f44c2e7",
   "metadata": {},
   "outputs": [
    {
     "data": {
      "text/plain": [
       "tensor([[178.3009],\n",
       "        [102.0224],\n",
       "        [178.3721]])"
      ]
     },
     "execution_count": 13,
     "metadata": {},
     "output_type": "execute_result"
    }
   ],
   "source": [
    "test_predictions[:3]"
   ]
  },
  {
   "cell_type": "code",
   "execution_count": 14,
   "id": "73839bbe-fe40-4917-9e74-3bac15ee5680",
   "metadata": {},
   "outputs": [
    {
     "data": {
      "text/plain": [
       "tensor([[178.],\n",
       "        [102.],\n",
       "        [178.]])"
      ]
     },
     "execution_count": 14,
     "metadata": {},
     "output_type": "execute_result"
    }
   ],
   "source": [
    "y_test_tensor[:3]"
   ]
  },
  {
   "cell_type": "code",
   "execution_count": 15,
   "id": "372e5f22-a835-48b2-833b-93c62d64b77b",
   "metadata": {},
   "outputs": [
    {
     "name": "stdout",
     "output_type": "stream",
     "text": [
      "Name: network.0.weight, Value: Parameter containing:\n",
      "tensor([[12.0477,  5.8225,  2.2331]], requires_grad=True)\n",
      "Name: network.0.bias, Value: Parameter containing:\n",
      "tensor([18.9024], requires_grad=True)\n"
     ]
    }
   ],
   "source": [
    "for name, value in model.named_parameters():\n",
    "    print(f\"Name: {name}, Value: {value}\")"
   ]
  },
  {
   "cell_type": "markdown",
   "id": "261abd15-8e64-4ce7-b9be-b1584ac197d7",
   "metadata": {},
   "source": [
    "#### 6.2: Datasets and Data Loaders\n",
    "- PyTorch provides a number of pre-loaded datasets that cover images, text, and audio.\n",
    "- DataLoader lets you create batches from a large dataset easily for training. It also allows reshuffling the data at every epoch to reduce model overfitting."
   ]
  },
  {
   "cell_type": "code",
   "execution_count": 29,
   "id": "2696887f-3ca2-45a9-ab58-fa53bd211a14",
   "metadata": {},
   "outputs": [],
   "source": [
    "import torch\n",
    "from torchvision import datasets\n",
    "from torchvision.transforms import ToTensor\n",
    "import matplotlib.pyplot as plt\n",
    "from torch.utils.data import DataLoader"
   ]
  },
  {
   "cell_type": "markdown",
   "id": "7cd9dd3f-d5f2-4db3-a830-7947591cccfb",
   "metadata": {},
   "source": [
    "#### 1. Datasets"
   ]
  },
  {
   "cell_type": "code",
   "execution_count": 17,
   "id": "ad537a46-1bc2-450a-99cd-a6d31d9c9544",
   "metadata": {},
   "outputs": [
    {
     "name": "stderr",
     "output_type": "stream",
     "text": [
      "100%|██████████████████████████████████████████████████████████████████████████████████████████| 26.4M/26.4M [00:10<00:00, 2.58MB/s]\n",
      "100%|███████████████████████████████████████████████████████████████████████████████████████████| 29.5k/29.5k [00:00<00:00, 207kB/s]\n",
      "100%|██████████████████████████████████████████████████████████████████████████████████████████| 4.42M/4.42M [00:01<00:00, 2.34MB/s]\n",
      "100%|██████████████████████████████████████████████████████████████████████████████████████████████████| 5.15k/5.15k [00:00<?, ?B/s]\n"
     ]
    }
   ],
   "source": [
    "training_data = datasets.FashionMNIST(\n",
    "    root=\"data\",\n",
    "    train=True,\n",
    "    download=True,\n",
    "    transform=ToTensor()\n",
    ")"
   ]
  },
  {
   "cell_type": "code",
   "execution_count": 18,
   "id": "9cc93bf7-736d-472d-83e8-5f94eb9e811e",
   "metadata": {},
   "outputs": [
    {
     "data": {
      "text/plain": [
       "60000"
      ]
     },
     "execution_count": 18,
     "metadata": {},
     "output_type": "execute_result"
    }
   ],
   "source": [
    "len(training_data)"
   ]
  },
  {
   "cell_type": "code",
   "execution_count": 19,
   "id": "1542127f-fb25-420d-a7a4-2239a0df97af",
   "metadata": {},
   "outputs": [],
   "source": [
    "test_data = datasets.FashionMNIST(\n",
    "    root=\"data\",\n",
    "    train=False,\n",
    "    download=True,\n",
    "    transform=ToTensor()\n",
    ")"
   ]
  },
  {
   "cell_type": "code",
   "execution_count": 20,
   "id": "52b0e199-46ad-4d00-8d1f-cfb0286f34b4",
   "metadata": {},
   "outputs": [
    {
     "data": {
      "text/plain": [
       "10000"
      ]
     },
     "execution_count": 20,
     "metadata": {},
     "output_type": "execute_result"
    }
   ],
   "source": [
    "len(test_data)"
   ]
  },
  {
   "cell_type": "code",
   "execution_count": 21,
   "id": "3627908f-69fa-4169-b276-221e015e77ba",
   "metadata": {},
   "outputs": [],
   "source": [
    "image, label = training_data[0]"
   ]
  },
  {
   "cell_type": "code",
   "execution_count": 22,
   "id": "de808122-6e11-42c2-957c-bd95a4ab936d",
   "metadata": {},
   "outputs": [
    {
     "data": {
      "text/plain": [
       "torch.Size([1, 28, 28])"
      ]
     },
     "execution_count": 22,
     "metadata": {},
     "output_type": "execute_result"
    }
   ],
   "source": [
    "image.shape"
   ]
  },
  {
   "cell_type": "code",
   "execution_count": 23,
   "id": "d27a52bd-48ae-4d38-ba5e-aa9410b24f6a",
   "metadata": {},
   "outputs": [
    {
     "data": {
      "text/plain": [
       "9"
      ]
     },
     "execution_count": 23,
     "metadata": {},
     "output_type": "execute_result"
    }
   ],
   "source": [
    "label"
   ]
  },
  {
   "cell_type": "code",
   "execution_count": 24,
   "id": "da50077b-1dc5-4af6-a399-c4aa5b7eebc2",
   "metadata": {},
   "outputs": [
    {
     "data": {
      "text/plain": [
       "torch.Size([28, 28])"
      ]
     },
     "execution_count": 24,
     "metadata": {},
     "output_type": "execute_result"
    }
   ],
   "source": [
    "image.squeeze().shape"
   ]
  },
  {
   "cell_type": "code",
   "execution_count": 25,
   "id": "ffda5f23-fb42-4759-b2f2-6f81a993411f",
   "metadata": {},
   "outputs": [
    {
     "data": {
      "text/plain": [
       "<matplotlib.image.AxesImage at 0x194f0a8d4c0>"
      ]
     },
     "execution_count": 25,
     "metadata": {},
     "output_type": "execute_result"
    },
    {
     "data": {
      "image/png": "[encoded data removed]",
      "text/plain": [
       "<Figure size 200x200 with 1 Axes>"
      ]
     },
     "metadata": {},
     "output_type": "display_data"
    }
   ],
   "source": [
    "plt.figure(figsize=(2,2))\n",
    "plt.imshow(image.squeeze(), cmap=\"gray\")"
   ]
  },
  {
   "cell_type": "code",
   "execution_count": 26,
   "id": "a762c040-180f-4dd0-b7e8-e11f69014451",
   "metadata": {},
   "outputs": [
    {
     "data": {
      "text/plain": [
       "'Ankle Boot'"
      ]
     },
     "execution_count": 26,
     "metadata": {},
     "output_type": "execute_result"
    }
   ],
   "source": [
    "labels_map = {\n",
    "    0: \"T-Shirt\",\n",
    "    1: \"Trouser\",\n",
    "    2: \"Pullover\",\n",
    "    3: \"Dress\",\n",
    "    4: \"Coat\",\n",
    "    5: \"Sandal\",\n",
    "    6: \"Shirt\",\n",
    "    7: \"Sneaker\",\n",
    "    8: \"Bag\",\n",
    "    9: \"Ankle Boot\",\n",
    "}\n",
    "\n",
    "labels_map[label]"
   ]
  },
  {
   "cell_type": "code",
   "execution_count": 27,
   "id": "de06fc6d-15e0-4a89-b0cf-5e1c503700c5",
   "metadata": {},
   "outputs": [
    {
     "data": {
      "image/png": "[encoded data removed]",
      "text/plain": [
       "<Figure size 800x800 with 9 Axes>"
      ]
     },
     "metadata": {},
     "output_type": "display_data"
    }
   ],
   "source": [
    "figure = plt.figure(figsize=(8, 8))\n",
    "cols, rows = 3, 3\n",
    "for i in range(1, cols * rows + 1):\n",
    "    sample_idx = torch.randint(len(training_data), size=(1,)).item()\n",
    "    img, label = training_data[sample_idx]\n",
    "    figure.add_subplot(rows, cols, i)\n",
    "    plt.title(labels_map[label])\n",
    "    plt.axis(\"off\")\n",
    "    plt.imshow(img.squeeze(), cmap=\"gray\")\n",
    "plt.show()"
   ]
  },
  {
   "cell_type": "markdown",
   "id": "f7631cc9-7448-4cab-b98c-3ee3aa30942f",
   "metadata": {},
   "source": [
    "#### 2. DataLoaders"
   ]
  },
  {
   "cell_type": "code",
   "execution_count": 30,
   "id": "8d602c9a-a761-42aa-85ef-4dbf5db9c221",
   "metadata": {},
   "outputs": [],
   "source": [
    "train_dataloader = DataLoader(training_data, batch_size=64, shuffle=True)\n",
    "test_dataloader = DataLoader(test_data, batch_size=64, shuffle=True)"
   ]
  },
  {
   "cell_type": "code",
   "execution_count": 31,
   "id": "b4e76dac-b651-4813-ba89-fd6f6637be6b",
   "metadata": {},
   "outputs": [
    {
     "name": "stdout",
     "output_type": "stream",
     "text": [
      "torch.Size([64, 1, 28, 28])\n"
     ]
    }
   ],
   "source": [
    "for images, labels in train_dataloader:\n",
    "    print(images.size())\n",
    "    break"
   ]
  },
  {
   "cell_type": "code",
   "execution_count": 32,
   "id": "04a5f11d-6691-4bae-a2f5-6ae8c737c9b3",
   "metadata": {},
   "outputs": [],
   "source": [
    "data_iter = iter(train_dataloader)\n",
    "images, labels = next(data_iter)"
   ]
  },
  {
   "cell_type": "code",
   "execution_count": 33,
   "id": "55954470-d687-419c-9ef1-2431e3679fb5",
   "metadata": {},
   "outputs": [
    {
     "data": {
      "text/plain": [
       "torch.Size([64, 1, 28, 28])"
      ]
     },
     "execution_count": 33,
     "metadata": {},
     "output_type": "execute_result"
    }
   ],
   "source": [
    "images.size()"
   ]
  },
  {
   "cell_type": "code",
   "execution_count": 35,
   "id": "493a1e86-3de2-499e-b308-cc7416a6cfce",
   "metadata": {},
   "outputs": [],
   "source": [
    "img = images[2].squeeze()\n",
    "label = labels[2]"
   ]
  },
  {
   "cell_type": "code",
   "execution_count": 36,
   "id": "015e00d5-3e05-4d5e-94c7-476aaf4a4837",
   "metadata": {},
   "outputs": [
    {
     "data": {
      "text/plain": [
       "1"
      ]
     },
     "execution_count": 36,
     "metadata": {},
     "output_type": "execute_result"
    }
   ],
   "source": [
    "label.item()"
   ]
  },
  {
   "cell_type": "code",
   "execution_count": 37,
   "id": "754ae078-8ca2-44c3-83b5-7e6568af7a06",
   "metadata": {},
   "outputs": [
    {
     "data": {
      "text/plain": [
       "'Trouser'"
      ]
     },
     "execution_count": 37,
     "metadata": {},
     "output_type": "execute_result"
    }
   ],
   "source": [
    "labels_map[label.item()]"
   ]
  },
  {
   "cell_type": "code",
   "execution_count": 38,
   "id": "1fe8469a-90c2-49bd-bbd6-7912af217797",
   "metadata": {},
   "outputs": [
    {
     "data": {
      "image/png": "[encoded data removed]",
      "text/plain": [
       "<Figure size 200x200 with 1 Axes>"
      ]
     },
     "metadata": {},
     "output_type": "display_data"
    }
   ],
   "source": [
    "plt.figure(figsize=(2,2))\n",
    "plt.imshow(img, cmap=\"gray\")\n",
    "plt.show()"
   ]
  },
  {
   "cell_type": "markdown",
   "id": "18c0a579-86e7-41f2-a66b-4677422b3958",
   "metadata": {},
   "source": [
    "#### 6.3: Handwritten Digits Classification"
   ]
  },
  {
   "cell_type": "code",
   "execution_count": 39,
   "id": "641415aa-4ac7-41ed-8f40-c454000060b3",
   "metadata": {},
   "outputs": [],
   "source": [
    "import torch\n",
    "import torch.nn as nn\n",
    "import torch.optim as optim\n",
    "import torchvision.transforms as transforms\n",
    "import torchvision.datasets as datasets\n",
    "from torch.utils.data import DataLoader\n",
    "\n",
    "from matplotlib import pyplot as plt"
   ]
  },
  {
   "cell_type": "code",
   "execution_count": 40,
   "id": "e3ae353b-60ec-4713-b25a-c1b1f0a1cf63",
   "metadata": {},
   "outputs": [
    {
     "name": "stderr",
     "output_type": "stream",
     "text": [
      "100%|██████████████████████████████████████████████████████████████████████████████████████████| 9.91M/9.91M [00:09<00:00, 1.04MB/s]\n",
      "100%|███████████████████████████████████████████████████████████████████████████████████████████| 28.9k/28.9k [00:00<00:00, 128kB/s]\n",
      "100%|██████████████████████████████████████████████████████████████████████████████████████████| 1.65M/1.65M [00:01<00:00, 1.18MB/s]\n",
      "100%|██████████████████████████████████████████████████████████████████████████████████████████| 4.54k/4.54k [00:00<00:00, 3.63MB/s]\n"
     ]
    }
   ],
   "source": [
    "# Load the MNIST dataset\n",
    "transform = transforms.Compose([transforms.ToTensor(), transforms.Normalize((0.5,), (0.5,))])\n",
    "train_dataset = datasets.MNIST(root='../../data', train=True, transform=transform, download=True)\n",
    "test_dataset = datasets.MNIST(root='../../data', train=False, transform=transform, download=True)"
   ]
  },
  {
   "cell_type": "code",
   "execution_count": 41,
   "id": "802c5116-e581-45a6-8ddb-c489d5c58127",
   "metadata": {},
   "outputs": [
    {
     "data": {
      "text/plain": [
       "(60000, 10000)"
      ]
     },
     "execution_count": 41,
     "metadata": {},
     "output_type": "execute_result"
    }
   ],
   "source": [
    "len(train_dataset), len(test_dataset)"
   ]
  },
  {
   "cell_type": "code",
   "execution_count": 42,
   "id": "880657ad-a397-4872-ad9f-29de94e146b5",
   "metadata": {},
   "outputs": [],
   "source": [
    "train_loader = DataLoader(dataset=train_dataset, batch_size=64, shuffle=True)\n",
    "test_loader = DataLoader(dataset=test_dataset, batch_size=64, shuffle=False)\n",
    "\n",
    "data_iter = iter(train_loader)\n",
    "images, labels = next(data_iter)"
   ]
  },
  {
   "cell_type": "code",
   "execution_count": 43,
   "id": "90c6005b-8987-47c4-9f5b-576163825b85",
   "metadata": {},
   "outputs": [
    {
     "data": {
      "text/plain": [
       "(torch.Size([64, 1, 28, 28]), torch.Size([64]))"
      ]
     },
     "execution_count": 43,
     "metadata": {},
     "output_type": "execute_result"
    }
   ],
   "source": [
    "images.shape, labels.shape"
   ]
  },
  {
   "cell_type": "code",
   "execution_count": 44,
   "id": "cba669ba-ad19-444e-a18e-ee6a8033c0d4",
   "metadata": {},
   "outputs": [
    {
     "data": {
      "text/plain": [
       "torch.Size([1, 28, 28])"
      ]
     },
     "execution_count": 44,
     "metadata": {},
     "output_type": "execute_result"
    }
   ],
   "source": [
    "images[0].shape"
   ]
  },
  {
   "cell_type": "code",
   "execution_count": 45,
   "id": "4e0c2bed-30b9-4469-a0b6-bf97978b987a",
   "metadata": {},
   "outputs": [
    {
     "data": {
      "text/plain": [
       "torch.Size([28, 28])"
      ]
     },
     "execution_count": 45,
     "metadata": {},
     "output_type": "execute_result"
    }
   ],
   "source": [
    "images[0].squeeze().shape"
   ]
  },
  {
   "cell_type": "code",
   "execution_count": 46,
   "id": "e33b723b-152f-4f8b-8202-126851dc18f9",
   "metadata": {},
   "outputs": [
    {
     "data": {
      "image/png": "[encoded data removed]",
      "text/plain": [
       "<Figure size 200x200 with 1 Axes>"
      ]
     },
     "metadata": {},
     "output_type": "display_data"
    }
   ],
   "source": [
    "plt.figure(figsize=(2,2))\n",
    "plt.imshow(images[4].squeeze(), cmap=\"gray\")\n",
    "plt.show()"
   ]
  },
  {
   "cell_type": "code",
   "execution_count": 47,
   "id": "13ff8017-5d0a-456f-98de-d90fdd489146",
   "metadata": {},
   "outputs": [
    {
     "data": {
      "text/plain": [
       "tensor(4)"
      ]
     },
     "execution_count": 47,
     "metadata": {},
     "output_type": "execute_result"
    }
   ],
   "source": [
    "labels[4]"
   ]
  },
  {
   "cell_type": "markdown",
   "id": "b7a8063b-1a42-4361-aa74-7ecae9b7de4c",
   "metadata": {},
   "source": [
    "#### Train a Fully Connected Neural Network (FCNN)"
   ]
  },
  {
   "cell_type": "code",
   "execution_count": 48,
   "id": "830130e4-286f-485c-9b9c-63617f8f5f68",
   "metadata": {},
   "outputs": [],
   "source": [
    "class DigitClassifier(nn.Module):\n",
    "    def __init__(self):\n",
    "        super().__init__()\n",
    "        self.network = nn.Sequential(\n",
    "            nn.Flatten(),\n",
    "            nn.Linear(28*28, 128),\n",
    "            nn.ReLU(),\n",
    "            nn.Linear(128, 64),\n",
    "            nn.ReLU(),\n",
    "            nn.Linear(64, 10)\n",
    "        )\n",
    "        \n",
    "    def forward(self, x):\n",
    "        return self.network(x)"
   ]
  },
  {
   "cell_type": "code",
   "execution_count": 49,
   "id": "151643c9-7614-4c84-9a85-341475ab95c0",
   "metadata": {},
   "outputs": [
    {
     "name": "stdout",
     "output_type": "stream",
     "text": [
      "Epoch [1/5], Loss: 0.3910\n",
      "Epoch [2/5], Loss: 0.1845\n",
      "Epoch [3/5], Loss: 0.1333\n",
      "Epoch [4/5], Loss: 0.1106\n",
      "Epoch [5/5], Loss: 0.0927\n"
     ]
    }
   ],
   "source": [
    "# Instantiate the model, define loss function and optimizer\n",
    "model = DigitClassifier()\n",
    "criterion = nn.CrossEntropyLoss()\n",
    "optimizer = optim.Adam(model.parameters(), lr=0.001)\n",
    "\n",
    "# Training the model\n",
    "epochs = 5\n",
    "for epoch in range(epochs):\n",
    "    running_loss = 0.0\n",
    "    for images, labels in train_loader:\n",
    "        optimizer.zero_grad()          # Zero the gradients\n",
    "        outputs = model(images)        # Forward pass\n",
    "        loss = criterion(outputs, labels) # Compute loss\n",
    "        loss.backward()                # Backpropagate\n",
    "        optimizer.step()               # Update weights\n",
    "\n",
    "        running_loss += loss.item()\n",
    "\n",
    "    print(f\"Epoch [{epoch+1}/{epochs}], Loss: {running_loss / len(train_loader):.4f}\")"
   ]
  },
  {
   "cell_type": "code",
   "execution_count": 50,
   "id": "e786477e-d7aa-4804-b513-1f3c64162196",
   "metadata": {},
   "outputs": [
    {
     "name": "stdout",
     "output_type": "stream",
     "text": [
      "Accuracy on the test set: 96.99%\n"
     ]
    }
   ],
   "source": [
    "# Testing the model\n",
    "model.eval()  # Switch to evaluation mode\n",
    "correct = 0\n",
    "total = 0\n",
    "with torch.no_grad():\n",
    "    for images, labels in test_loader:\n",
    "        outputs = model(images)\n",
    "        _, predicted = torch.max(outputs.data, 1)\n",
    "        total += labels.size(0)\n",
    "        correct += (predicted == labels).sum().item()\n",
    "\n",
    "print(f'Accuracy on the test set: {100 * correct / total:.2f}%')"
   ]
  },
  {
   "cell_type": "markdown",
   "id": "bf310e50-abd6-4887-ac5b-aab76e1f01c4",
   "metadata": {},
   "source": [
    "#### Classification Report & Confusion Matrix"
   ]
  },
  {
   "cell_type": "code",
   "execution_count": 51,
   "id": "72957b5d-eba2-429f-86f4-d0dc52fb26b8",
   "metadata": {},
   "outputs": [],
   "source": [
    "# Testing the model\n",
    "model.eval()  # Switch to evaluation mode\n",
    "\n",
    "all_predicted = []\n",
    "all_labels = []\n",
    "\n",
    "with torch.no_grad():\n",
    "    for images, labels in test_loader:\n",
    "        outputs = model(images)\n",
    "        _, predicted = torch.max(outputs.data, 1)\n",
    "        \n",
    "        # Append labels and predictions to lists\n",
    "        all_labels.extend(labels.numpy())    \n",
    "        all_predicted.extend(predicted.numpy()) "
   ]
  },
  {
   "cell_type": "code",
   "execution_count": 52,
   "id": "42cdf807-3828-4bc4-a80e-4ce317f1fddd",
   "metadata": {},
   "outputs": [
    {
     "data": {
      "text/plain": [
       "10000"
      ]
     },
     "execution_count": 52,
     "metadata": {},
     "output_type": "execute_result"
    }
   ],
   "source": [
    "len(all_predicted)"
   ]
  },
  {
   "cell_type": "code",
   "execution_count": 53,
   "id": "9ea25199-038e-4a4b-96f0-3e8952e82bb8",
   "metadata": {},
   "outputs": [
    {
     "name": "stdout",
     "output_type": "stream",
     "text": [
      "              precision    recall  f1-score   support\n",
      "\n",
      "           0       0.97      0.99      0.98       980\n",
      "           1       0.99      0.99      0.99      1135\n",
      "           2       0.97      0.97      0.97      1032\n",
      "           3       0.96      0.97      0.97      1010\n",
      "           4       0.96      0.97      0.96       982\n",
      "           5       0.97      0.97      0.97       892\n",
      "           6       0.98      0.97      0.97       958\n",
      "           7       0.95      0.97      0.96      1028\n",
      "           8       0.98      0.94      0.96       974\n",
      "           9       0.96      0.96      0.96      1009\n",
      "\n",
      "    accuracy                           0.97     10000\n",
      "   macro avg       0.97      0.97      0.97     10000\n",
      "weighted avg       0.97      0.97      0.97     10000\n",
      "\n"
     ]
    }
   ],
   "source": [
    "from sklearn.metrics import classification_report\n",
    "\n",
    "report = classification_report(all_labels, all_predicted)\n",
    "print(report)"
   ]
  },
  {
   "cell_type": "code",
   "execution_count": 54,
   "id": "5db7eacf-68bf-46c7-ae3c-07b1c0b83418",
   "metadata": {},
   "outputs": [
    {
     "data": {
      "text/plain": [
       "array([[ 971,    0,    1,    0,    0,    1,    2,    2,    2,    1],\n",
       "       [   0, 1124,    2,    2,    0,    1,    2,    3,    1,    0],\n",
       "       [   4,    0, 1004,    0,    3,    0,    4,   12,    5,    0],\n",
       "       [   0,    1,    5,  982,    0,    7,    0,    7,    3,    5],\n",
       "       [   1,    0,    7,    0,  949,    0,    2,    6,    0,   17],\n",
       "       [   6,    0,    0,    8,    2,  864,    3,    1,    4,    4],\n",
       "       [   8,    3,    4,    1,    8,    5,  926,    1,    2,    0],\n",
       "       [   1,    4,    7,    4,    1,    1,    0, 1000,    0,   10],\n",
       "       [   2,    2,    5,   18,    9,    7,    7,    7,  915,    2],\n",
       "       [   6,    3,    0,    8,   14,    4,    0,    9,    1,  964]],\n",
       "      dtype=int64)"
      ]
     },
     "execution_count": 54,
     "metadata": {},
     "output_type": "execute_result"
    }
   ],
   "source": [
    "from sklearn.metrics import confusion_matrix\n",
    "import seaborn as sns\n",
    "\n",
    "cm = confusion_matrix(all_labels, all_predicted)\n",
    "cm"
   ]
  },
  {
   "cell_type": "code",
   "execution_count": 55,
   "id": "1931e79f-9c8d-4392-9c4c-c71a4a3c3e02",
   "metadata": {},
   "outputs": [
    {
     "data": {
      "image/png": "[encoded data removed]",
      "text/plain": [
       "<Figure size 800x600 with 2 Axes>"
      ]
     },
     "metadata": {},
     "output_type": "display_data"
    }
   ],
   "source": [
    "# Plot confusion matrix\n",
    "plt.figure(figsize=(8, 6))\n",
    "sns.heatmap(cm, annot=True, fmt='d', cmap='Blues', xticklabels=range(len(cm)), yticklabels=range(len(cm)))\n",
    "plt.xlabel(\"Predicted Labels\")\n",
    "plt.ylabel(\"True Labels\")\n",
    "plt.title(\"Confusion Matrix\")\n",
    "plt.show()"
   ]
  },
  {
   "cell_type": "markdown",
   "id": "73c5eedc-723c-4aef-8b88-f975576fa1d2",
   "metadata": {},
   "source": [
    "### 6.5: Cost Function - Binary Cross Entropy (a.k.a Log Loss)"
   ]
  },
  {
   "cell_type": "markdown",
   "id": "a635c919-edb8-4c5a-9e1f-c0c9769d03b2",
   "metadata": {},
   "source": [
    "##### Reasons for Using Binary Cross Entropy\n",
    "- Aligns perfectly with probabilistic outputs, providing a natural fit for binary outcomes.\n",
    "- Produces convex cost function (when used with sigmoid) which is good for global minimum convergence.\n",
    "- Provides strong gradient updates, especially for confident, incorrect predictions.\n",
    "- Incorrect predictions are penalized logarithmically, encouraging accuracy and discouraging overconfidence in errors.\n",
    "- Cost functions like MSE may not work well for binary classification problems as the cost surface will not be convex and you may get stuck in local minima.\n",
    "- Binary Cross Entropy (BCE) along with sigmoid activation gives a smooth, convex surface for the cost function which makes convergence easier\n",
    "- BCE also penalizes high confidence errors, which eventually helps in efficient discovery of global minimum\n",
    "- BCE aligns perfectly with probabilistic outputs, providing a natural fit for binary outcomes"
   ]
  },
  {
   "cell_type": "code",
   "execution_count": 56,
   "id": "14ef154c-b5ae-453c-ba4b-4389f8022da0",
   "metadata": {},
   "outputs": [],
   "source": [
    "import torch\n",
    "import torch.nn as nn"
   ]
  },
  {
   "cell_type": "code",
   "execution_count": 57,
   "id": "06f68ef0-e134-485e-a149-473f65999c8f",
   "metadata": {},
   "outputs": [
    {
     "name": "stdout",
     "output_type": "stream",
     "text": [
      "MSE Loss:  0.81\n"
     ]
    }
   ],
   "source": [
    "criterion = nn.MSELoss()\n",
    "\n",
    "y_pred = torch.tensor([0.9])\n",
    "y_true = torch.tensor([0], dtype=torch.float)\n",
    "\n",
    "loss = criterion(y_pred, y_true)\n",
    "print(f\"MSE Loss: {loss.item(): 0.2f}\")"
   ]
  },
  {
   "cell_type": "code",
   "execution_count": 58,
   "id": "d313d7b1-3e06-4824-82ef-fdd7bef4cc66",
   "metadata": {},
   "outputs": [
    {
     "name": "stdout",
     "output_type": "stream",
     "text": [
      "Binary Cross Entropy Loss:  0.11\n"
     ]
    }
   ],
   "source": [
    "criterion = nn.BCELoss() # Binary Cross Entropy Loss\n",
    "\n",
    "y_pred = torch.tensor([0.1])\n",
    "y_true = torch.tensor([0], dtype=torch.float)\n",
    "\n",
    "loss = criterion(y_pred, y_true)\n",
    "print(f\"Binary Cross Entropy Loss: {loss.item(): 0.2f}\")"
   ]
  },
  {
   "cell_type": "code",
   "execution_count": 59,
   "id": "2c8b745c-53cd-441d-9699-ff68311d898d",
   "metadata": {},
   "outputs": [
    {
     "name": "stdout",
     "output_type": "stream",
     "text": [
      "Binary Cross Entropy Loss:  0.54\n"
     ]
    }
   ],
   "source": [
    "criterion = nn.BCELoss() # Binary Cross Entropy Loss\n",
    "\n",
    "y_pred = torch.tensor([0.8, 0.2, 0.8, 0.9])\n",
    "y_true = torch.tensor([1, 0, 0, 1], dtype=torch.float)\n",
    "\n",
    "loss = criterion(y_pred, y_true)\n",
    "print(f\"Binary Cross Entropy Loss: {loss.item(): 0.2f}\")"
   ]
  },
  {
   "cell_type": "markdown",
   "id": "a098e810-4d6a-4826-a645-0e6cfd81b245",
   "metadata": {},
   "source": [
    "#### 6.6: Cost Function: Cross Entropy"
   ]
  },
  {
   "cell_type": "code",
   "execution_count": 60,
   "id": "880be86e-61ed-4ffd-b584-74592f492d80",
   "metadata": {},
   "outputs": [
    {
     "name": "stdout",
     "output_type": "stream",
     "text": [
      "Cross Entropy Loss:  0.77\n"
     ]
    }
   ],
   "source": [
    "loss_func = nn.CrossEntropyLoss()\n",
    "\n",
    "y_pred = torch.tensor([[0.1, 0.2, 0.7]]) # dog (0), cat (1), koala (2)\n",
    "y_true = torch.tensor([2])\n",
    "\n",
    "loss = loss_func(y_pred, y_true)\n",
    "print(f\"Cross Entropy Loss: {loss.item(): 0.2f}\")"
   ]
  },
  {
   "cell_type": "code",
   "execution_count": 61,
   "id": "a56b6bd6-431d-4628-b9cc-93e73ecfa53b",
   "metadata": {},
   "outputs": [
    {
     "name": "stdout",
     "output_type": "stream",
     "text": [
      "Cross Entropy Loss:  1.37\n"
     ]
    }
   ],
   "source": [
    "loss_func = nn.CrossEntropyLoss()\n",
    "\n",
    "y_pred = torch.tensor([[0.7, 0.2, 0.1]])\n",
    "y_true = torch.tensor([2])\n",
    "\n",
    "loss = loss_func(y_pred, y_true)\n",
    "print(f\"Cross Entropy Loss: {loss.item(): 0.2f}\")"
   ]
  },
  {
   "cell_type": "markdown",
   "id": "2abdbbe5-6380-411c-914a-fdc18feb2d3b",
   "metadata": {},
   "source": [
    "- Categorical Cross Entropy (a.k.a just Cross Entropy) is used for multi-class classification problems\n",
    "- Binary Cross Entropy is a special case of Categorical Cross Entropy when output classes are binary"
   ]
  },
  {
   "cell_type": "markdown",
   "id": "958b29ee-3843-4b7d-b51a-8092d76c897c",
   "metadata": {},
   "source": [
    "#### MCQ:\n",
    "- What is nn.Module in PyTorch?\n",
    "  - A base class for all neural network modules\n",
    "- What does calling model(train_data) function do in PyTorch?\n",
    "  - It internally calls the forward method on your subclass\n",
    "- What does subclassing nn.Module allow you to do?\n",
    "  - Define your own neural network architecture\n",
    "- Why is Binary Cross Entropy used in binary classification problems?\n",
    "  - It gives a smooth, convex surface for the cost function\n",
    "- What is the purpose of using DataLoader in PyTorch?\n",
    "  - To create batches from the dataset for training\n",
    "- What advantage does Binary Cross Entropy have over MSE in binary classification?\n",
    "  - It penalizes high confidence errors, aiding in global minimum discovery"
   ]
  },
  {
   "cell_type": "code",
   "execution_count": null,
   "id": "685e0a05-fb45-4ea5-98de-477a561aa011",
   "metadata": {},
   "outputs": [],
   "source": []
  }
 ],
 "metadata": {
  "kernelspec": {
   "display_name": "Python 3 (ipykernel)",
   "language": "python",
   "name": "python3"
  },
  "language_info": {
   "codemirror_mode": {
    "name": "ipython",
    "version": 3
   },
   "file_extension": ".py",
   "mimetype": "text/x-python",
   "name": "python",
   "nbconvert_exporter": "python",
   "pygments_lexer": "ipython3",
   "version": "3.12.7"
  }
 },
 "nbformat": 4,
 "nbformat_minor": 5
}
