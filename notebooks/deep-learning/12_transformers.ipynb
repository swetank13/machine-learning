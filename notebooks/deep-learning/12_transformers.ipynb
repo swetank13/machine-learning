{
 "cells": [
  {
   "cell_type": "markdown",
   "id": "642fdbf4-db7b-42e7-aeb6-362a6eaed4fd",
   "metadata": {},
   "source": [
    "### <div align=\"center\">Transformers</div>"
   ]
  },
  {
   "cell_type": "markdown",
   "id": "50eb9dee-d3ae-43fa-97ab-c7d63944e2ab",
   "metadata": {},
   "source": [
    "#### 12.2: Word Embeddings\n",
    "- Word embedding is a way to represent a word in a numeric format such that it captures the semantic meaning of that word.\n",
    "- Word2vec, Glove, etc., are popular techniques to produce static word embeddings.\n",
    "- With word embeddings, you can do math like: King - man + woman = Queen, Russia - Moscow + Delhi = India"
   ]
  },
  {
   "cell_type": "code",
   "execution_count": null,
   "id": "c8c3a8c7-29eb-4dfd-84bd-8b8e93e9cea1",
   "metadata": {},
   "outputs": [],
   "source": []
  }
 ],
 "metadata": {
  "kernelspec": {
   "display_name": "Python 3 (ipykernel)",
   "language": "python",
   "name": "python3"
  },
  "language_info": {
   "codemirror_mode": {
    "name": "ipython",
    "version": 3
   },
   "file_extension": ".py",
   "mimetype": "text/x-python",
   "name": "python",
   "nbconvert_exporter": "python",
   "pygments_lexer": "ipython3",
   "version": "3.12.7"
  }
 },
 "nbformat": 4,
 "nbformat_minor": 5
}
