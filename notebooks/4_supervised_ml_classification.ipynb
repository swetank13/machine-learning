{
 "cells": [
  {
   "cell_type": "markdown",
   "id": "be9ca607-9442-4744-b81c-26d944ed7806",
   "metadata": {},
   "source": [
    "### <div align=\"center\">Supervised Machine Learning - Classification</div>"
   ]
  },
  {
   "cell_type": "markdown",
   "id": "576b0270-4d40-4006-ae4a-fb1b2c26289d",
   "metadata": {},
   "source": [
    "##### 4.1: Introduction to Classification\n",
    "- Regression Models work with continuous values that can take on any value, while Classification is categorical and sticks to a definite set of values.\n",
    "- The Classification Model can be split into two types:\n",
    "  1. Binary Classification\n",
    "  2. Multi class Classification"
   ]
  },
  {
   "cell_type": "markdown",
   "id": "ab2b1aab-9c4b-418c-ae9b-99e6fad64649",
   "metadata": {},
   "source": [
    "##### 4.2: Logistic Regression: Binary Classification\n",
    "- The Sigmoid Function converts input a range from 0 to 1.\n",
    "- sigmoid(z)=1/(1+e^−z) , e = Euler’s number - 2.71828\n",
    "- It is a crucial function in logistic regression for binary classification as it maps linear outputs to probabilities, helping to improve the model’s predictions.\n"
   ]
  },
  {
   "cell_type": "markdown",
   "id": "5849506b-55fe-4bb5-bf72-05f3f9fcd344",
   "metadata": {},
   "source": [
    "##### 4.3: Model Evaluation - Accuracy, Precision and Recall\n",
    "- We have two category for classification\n",
    "  - Truth (Actual Value)\n",
    "  - Prediction (Predicted Value)\n",
    "- `Accuracy` is the proportion of true results (both true positives and true negatives) among the total number of cases examined.\n",
    "  - Accuracy = (True Positives + True Negatives) / (Total Cases)\n",
    "  - While accuracy can be a useful metric, it might not always provide a comprehensive view of a model's performance. Therefore, we also consider other measures like precision and recall to ensure a more rounded evaluation.\n",
    "- `Precision` is the ratio of true positive predictions to the total predicted positives, measuring the accuracy of the positive predictions.\n",
    "  - Precision = (True Positives) / (True Positives + False Positive)\n",
    "  - Out of all dog predictions how many are correct (Basically we reference prediction as base).\n",
    "- `Recall` is the ratio of true positive predictions to the actual positives, assessing the model’s ability to identify all relevant cases.\n",
    "  - Recall = (True Positives) / (True Positive + False Negative)\n",
    "  - Out of all dogs in the truth, how many did we predict correctly (Basically we reference truth as base)."
   ]
  },
  {
   "cell_type": "markdown",
   "id": "24c85fd9-9cc5-4638-a027-a534c62e064c",
   "metadata": {},
   "source": [
    "##### 4.6: Model Evaluation - F1 Score, Confusion Matrix\n",
    "- The F1 score is the harmonic mean of the precision and recall.\n",
    "- F1 Score = 2 × (Precision×Recall / Precision + Recall)\n",
    "- A confusion matrix is a table layout that visualizes the performance of a classification algorithm by displaying the true and false predictions it makes.\n"
   ]
  },
  {
   "cell_type": "markdown",
   "id": "5a1e1c07-d53a-49e8-9327-c207ac041950",
   "metadata": {},
   "source": [
    "##### 4.11: Support Vector Machine (SVM)\n",
    "- Support Vector Machine (SVM) is a robust supervised learning model that finds the optimal hyperplane in an n-dimensional space for classification and regression tasks.\n",
    "- A Kernel is a function that transforms data into a higher dimensional space so that a decision boundary can be drawn. There are different kernels available for different use cases, some examples - poly, linear, rbf, sigmoid.\n",
    "- Gamma (γ): This is a parameter in SVM that decides the impact of each data point on the decision boundary. It is about how closely the model adheres to the data.\n",
    "- Regularization: In machine learning, regularization adds a complexity penalty to the model to curb over fitting and enhance its performance on new data.\n",
    "- Choosing the appropriate kernel significantly influences the total computational power. This, in turn, affects the budget of the entire project."
   ]
  },
  {
   "cell_type": "markdown",
   "id": "e1ccf8eb-e719-4031-94de-48ae6fa141a5",
   "metadata": {},
   "source": [
    "##### 4.12: Data Pre-processing: Scaling\n",
    "- Scaling in machine learning involves adjusting the range of feature values to a common scale, such as 0 to 1, enhancing model performance by ensuring each feature contributes equally.\n",
    "  - Min-Max Scaling\n",
    "  - Standard Scaling (Z-score normalization)"
   ]
  },
  {
   "cell_type": "markdown",
   "id": "be62c952-cecc-443d-87b0-dd76a254504a",
   "metadata": {},
   "source": [
    "##### 4.13: Sklearn Pipeline\n",
    "- Sklearn offers a handy and robust tool known as a pipeline. This feature lets you build and operate a series of data transformation and modeling tasks as one entity.\n",
    "- This tool is instrumental in simplifying machine learning workflows, safeguarding uniformity in data processing, and enhancing the efficacy of model creation and evaluation."
   ]
  },
  {
   "cell_type": "markdown",
   "id": "3dd48edc-6d32-4b58-895b-257ec0a2fecd",
   "metadata": {},
   "source": [
    "##### 4.17: Naive Bayes Classification Theory\n",
    "- P(A | B) = Probability of event A knowing that event B has already occurred.\n",
    "- Bayes’ Theorem: P(A | B) = P(B | A) * P(A) / P(B)\n",
    "- It's called Naive Bayes because it makes the naive assumption that all features (such as p(free) or p(lottery)) are independent of each other.\n",
    "##### 4.18: Naive Bayes: SMS Spam Classification\n",
    "- Machine learning models process numbers, not text. Hence, during preprocessing, it is crucial to convert text-based datasets into numerical form for model training.\n",
    "- The Count Vectorizer transforms a collection of text documents into a matrix of token counts. It essentially reflects the frequency of each word within the documents. Sklearn offers a built-in API for this operation.\n",
    "- For the Naive Bayes implementation, we opted for MultinomialNB. It is apt for situations where features are word frequencies in a text, making it a popular choice for text classification."
   ]
  },
  {
   "cell_type": "markdown",
   "id": "9aa4544f-0a5e-48e9-800a-c55b89cad72b",
   "metadata": {},
   "source": [
    "##### 4.21: Decision Tree Theory\n",
    "- In machine learning, a decision tree is a type of supervised learning algorithm. It models decisions and their potential outcomes in a structure resembling a tree, composed of various choices.\n",
    "- You can select the higher-level nodes using either of the following typical methods.\n",
    "  - Gini Impurity (Check formula)\n",
    "  - Entropy (Information Gain)"
   ]
  },
  {
   "cell_type": "markdown",
   "id": "584906f5-1cbe-40cc-b888-9eb9fc496b75",
   "metadata": {},
   "source": [
    "### breast cancer recurrence prediction use case"
   ]
  },
  {
   "cell_type": "markdown",
   "id": "5b01063f-83e2-45dd-a31c-885c0bb1afc5",
   "metadata": {},
   "source": [
    "You are a data scientist / AI engineer working on a breast cancer recurrence prediction project. You have been provided with a dataset named **`\"breast_cancer_data.csv\"`**, which includes various clinical and pathological factors influencing the recurrence of breast cancer. The dataset comprises the following columns:\n",
    "\n",
    "- `age:` Age of the patient (ranges: 30-39, 40-49, 50-59, 60-69).\n",
    "- `menopause:` Menopause status of the patient (premeno, ge40, lt40).\n",
    "- `tumor-size:` Size of the tumor (ranges in mm).\n",
    "- `inv-nodes:` Number of involved lymph nodes (ranges).\n",
    "- `node-caps:` Whether node caps are present (yes or no).\n",
    "- `deg-malig:` Degree of malignancy (1, 2, 3).\n",
    "- `breast:` Breast involved (left or right).\n",
    "- `breast-quad:` Quadrant of the breast involved (left_up, left_low, right_up, right_low, central).\n",
    "- `irradiat:` Whether the patient received irradiation (yes or no).\n",
    "- `class:` Recurrence of breast cancer (no-recurrence-events, recurrence-events).\n",
    "\n",
    "Your task is to analyze this dataset to understand the factors contributing to breast cancer recurrence. You will handle class imbalance using various techniques and build machine learning models to predict whether a patient will experience recurrence events based on the provided features."
   ]
  },
  {
   "cell_type": "code",
   "execution_count": 3,
   "id": "f1b52e32-c336-48fa-b713-1431ab16f763",
   "metadata": {},
   "outputs": [],
   "source": [
    "# Import necessary libraries\n",
    "import warnings\n",
    "warnings.filterwarnings(\"ignore\")\n",
    "import pandas as pd\n",
    "import seaborn as sns\n",
    "from matplotlib import pyplot as plt\n",
    "from sklearn.model_selection import train_test_split\n",
    "from sklearn.linear_model import LogisticRegression\n",
    "from sklearn.metrics import classification_report\n",
    "from imblearn.under_sampling import RandomUnderSampler\n",
    "from imblearn.over_sampling import SMOTE\n",
    "from imblearn.combine import SMOTETomek"
   ]
  },
  {
   "cell_type": "code",
   "execution_count": 4,
   "id": "5adc169f-64cb-4f7b-9ede-a1fd57d560fe",
   "metadata": {},
   "outputs": [
    {
     "name": "stdout",
     "output_type": "stream",
     "text": [
      "Number of rows and columns:  (286, 10)\n",
      "First few rows of the dataset:\n"
     ]
    },
    {
     "data": {
      "text/html": [
       "<div>\n",
       "<style scoped>\n",
       "    .dataframe tbody tr th:only-of-type {\n",
       "        vertical-align: middle;\n",
       "    }\n",
       "\n",
       "    .dataframe tbody tr th {\n",
       "        vertical-align: top;\n",
       "    }\n",
       "\n",
       "    .dataframe thead th {\n",
       "        text-align: right;\n",
       "    }\n",
       "</style>\n",
       "<table border=\"1\" class=\"dataframe\">\n",
       "  <thead>\n",
       "    <tr style=\"text-align: right;\">\n",
       "      <th></th>\n",
       "      <th>age</th>\n",
       "      <th>menopause</th>\n",
       "      <th>tumor-size</th>\n",
       "      <th>inv-nodes</th>\n",
       "      <th>node-caps</th>\n",
       "      <th>deg-malig</th>\n",
       "      <th>breast</th>\n",
       "      <th>breast-quad</th>\n",
       "      <th>irradiat</th>\n",
       "      <th>class</th>\n",
       "    </tr>\n",
       "  </thead>\n",
       "  <tbody>\n",
       "    <tr>\n",
       "      <th>0</th>\n",
       "      <td>30-39</td>\n",
       "      <td>premeno</td>\n",
       "      <td>30-34</td>\n",
       "      <td>0-2</td>\n",
       "      <td>no</td>\n",
       "      <td>3</td>\n",
       "      <td>left</td>\n",
       "      <td>left_low</td>\n",
       "      <td>no</td>\n",
       "      <td>no-recurrence-events</td>\n",
       "    </tr>\n",
       "    <tr>\n",
       "      <th>1</th>\n",
       "      <td>40-49</td>\n",
       "      <td>premeno</td>\n",
       "      <td>20-24</td>\n",
       "      <td>0-2</td>\n",
       "      <td>no</td>\n",
       "      <td>2</td>\n",
       "      <td>right</td>\n",
       "      <td>right_up</td>\n",
       "      <td>no</td>\n",
       "      <td>no-recurrence-events</td>\n",
       "    </tr>\n",
       "    <tr>\n",
       "      <th>2</th>\n",
       "      <td>40-49</td>\n",
       "      <td>premeno</td>\n",
       "      <td>20-24</td>\n",
       "      <td>0-2</td>\n",
       "      <td>no</td>\n",
       "      <td>2</td>\n",
       "      <td>left</td>\n",
       "      <td>left_low</td>\n",
       "      <td>no</td>\n",
       "      <td>no-recurrence-events</td>\n",
       "    </tr>\n",
       "    <tr>\n",
       "      <th>3</th>\n",
       "      <td>60-69</td>\n",
       "      <td>ge40</td>\n",
       "      <td>15-19</td>\n",
       "      <td>0-2</td>\n",
       "      <td>no</td>\n",
       "      <td>2</td>\n",
       "      <td>right</td>\n",
       "      <td>left_up</td>\n",
       "      <td>no</td>\n",
       "      <td>no-recurrence-events</td>\n",
       "    </tr>\n",
       "    <tr>\n",
       "      <th>4</th>\n",
       "      <td>40-49</td>\n",
       "      <td>premeno</td>\n",
       "      <td>0-4</td>\n",
       "      <td>0-2</td>\n",
       "      <td>no</td>\n",
       "      <td>2</td>\n",
       "      <td>right</td>\n",
       "      <td>right_low</td>\n",
       "      <td>no</td>\n",
       "      <td>no-recurrence-events</td>\n",
       "    </tr>\n",
       "  </tbody>\n",
       "</table>\n",
       "</div>"
      ],
      "text/plain": [
       "     age menopause tumor-size inv-nodes node-caps  deg-malig breast  \\\n",
       "0  30-39   premeno      30-34       0-2        no          3   left   \n",
       "1  40-49   premeno      20-24       0-2        no          2  right   \n",
       "2  40-49   premeno      20-24       0-2        no          2   left   \n",
       "3  60-69      ge40      15-19       0-2        no          2  right   \n",
       "4  40-49   premeno        0-4       0-2        no          2  right   \n",
       "\n",
       "  breast-quad irradiat                 class  \n",
       "0    left_low       no  no-recurrence-events  \n",
       "1    right_up       no  no-recurrence-events  \n",
       "2    left_low       no  no-recurrence-events  \n",
       "3     left_up       no  no-recurrence-events  \n",
       "4   right_low       no  no-recurrence-events  "
      ]
     },
     "execution_count": 4,
     "metadata": {},
     "output_type": "execute_result"
    }
   ],
   "source": [
    "# Step 1: Import the dataset and display the first few rows\n",
    "df = pd.read_csv(\"../data/breast_cancer_data.csv\")\n",
    "print(\"Number of rows and columns: \", df.shape)\n",
    "print(\"First few rows of the dataset:\")\n",
    "df.head()"
   ]
  },
  {
   "cell_type": "code",
   "execution_count": 5,
   "id": "c9c0d6c9-c871-48cb-86dd-8d9d134b5115",
   "metadata": {},
   "outputs": [
    {
     "name": "stdout",
     "output_type": "stream",
     "text": [
      "Missing values in the dataset:\n",
      "age            0\n",
      "menopause      0\n",
      "tumor-size     0\n",
      "inv-nodes      0\n",
      "node-caps      8\n",
      "deg-malig      0\n",
      "breast         0\n",
      "breast-quad    0\n",
      "irradiat       0\n",
      "class          0\n",
      "dtype: int64\n"
     ]
    }
   ],
   "source": [
    "# Step 2: Check for any missing values in the dataset and handle them appropriately\n",
    "print(\"Missing values in the dataset:\")\n",
    "print(df.isna().sum())"
   ]
  },
  {
   "cell_type": "code",
   "execution_count": 6,
   "id": "f9ce2929-ef78-4562-ad3d-7be67a19d853",
   "metadata": {},
   "outputs": [
    {
     "data": {
      "image/png": "[encoded data removed]",
      "text/plain": [
       "<Figure size 640x480 with 1 Axes>"
      ]
     },
     "metadata": {},
     "output_type": "display_data"
    }
   ],
   "source": [
    "# Step 3: Visualize the class distribution to identify any class imbalance in the dataset\n",
    "sns.countplot(x='class', data=df)\n",
    "plt.title('Class Distribution')\n",
    "plt.show()"
   ]
  },
  {
   "cell_type": "code",
   "execution_count": 7,
   "id": "512ebd7a-fd4b-469b-a7af-c03329cb5546",
   "metadata": {},
   "outputs": [
    {
     "name": "stdout",
     "output_type": "stream",
     "text": [
      "First few rows of the encoded dataset:\n"
     ]
    },
    {
     "data": {
      "text/html": [
       "<div>\n",
       "<style scoped>\n",
       "    .dataframe tbody tr th:only-of-type {\n",
       "        vertical-align: middle;\n",
       "    }\n",
       "\n",
       "    .dataframe tbody tr th {\n",
       "        vertical-align: top;\n",
       "    }\n",
       "\n",
       "    .dataframe thead th {\n",
       "        text-align: right;\n",
       "    }\n",
       "</style>\n",
       "<table border=\"1\" class=\"dataframe\">\n",
       "  <thead>\n",
       "    <tr style=\"text-align: right;\">\n",
       "      <th></th>\n",
       "      <th>deg-malig</th>\n",
       "      <th>class</th>\n",
       "      <th>age_30-39</th>\n",
       "      <th>age_40-49</th>\n",
       "      <th>age_50-59</th>\n",
       "      <th>age_60-69</th>\n",
       "      <th>age_70-79</th>\n",
       "      <th>menopause_lt40</th>\n",
       "      <th>menopause_premeno</th>\n",
       "      <th>tumor-size_09-May</th>\n",
       "      <th>...</th>\n",
       "      <th>inv-nodes_14-Dec</th>\n",
       "      <th>inv-nodes_15-17</th>\n",
       "      <th>inv-nodes_24-26</th>\n",
       "      <th>node-caps_yes</th>\n",
       "      <th>breast_right</th>\n",
       "      <th>breast-quad_left_low</th>\n",
       "      <th>breast-quad_left_up</th>\n",
       "      <th>breast-quad_right_low</th>\n",
       "      <th>breast-quad_right_up</th>\n",
       "      <th>irradiat_yes</th>\n",
       "    </tr>\n",
       "  </thead>\n",
       "  <tbody>\n",
       "    <tr>\n",
       "      <th>0</th>\n",
       "      <td>3</td>\n",
       "      <td>no-recurrence-events</td>\n",
       "      <td>True</td>\n",
       "      <td>False</td>\n",
       "      <td>False</td>\n",
       "      <td>False</td>\n",
       "      <td>False</td>\n",
       "      <td>False</td>\n",
       "      <td>True</td>\n",
       "      <td>False</td>\n",
       "      <td>...</td>\n",
       "      <td>False</td>\n",
       "      <td>False</td>\n",
       "      <td>False</td>\n",
       "      <td>False</td>\n",
       "      <td>False</td>\n",
       "      <td>True</td>\n",
       "      <td>False</td>\n",
       "      <td>False</td>\n",
       "      <td>False</td>\n",
       "      <td>False</td>\n",
       "    </tr>\n",
       "    <tr>\n",
       "      <th>1</th>\n",
       "      <td>2</td>\n",
       "      <td>no-recurrence-events</td>\n",
       "      <td>False</td>\n",
       "      <td>True</td>\n",
       "      <td>False</td>\n",
       "      <td>False</td>\n",
       "      <td>False</td>\n",
       "      <td>False</td>\n",
       "      <td>True</td>\n",
       "      <td>False</td>\n",
       "      <td>...</td>\n",
       "      <td>False</td>\n",
       "      <td>False</td>\n",
       "      <td>False</td>\n",
       "      <td>False</td>\n",
       "      <td>True</td>\n",
       "      <td>False</td>\n",
       "      <td>False</td>\n",
       "      <td>False</td>\n",
       "      <td>True</td>\n",
       "      <td>False</td>\n",
       "    </tr>\n",
       "    <tr>\n",
       "      <th>2</th>\n",
       "      <td>2</td>\n",
       "      <td>no-recurrence-events</td>\n",
       "      <td>False</td>\n",
       "      <td>True</td>\n",
       "      <td>False</td>\n",
       "      <td>False</td>\n",
       "      <td>False</td>\n",
       "      <td>False</td>\n",
       "      <td>True</td>\n",
       "      <td>False</td>\n",
       "      <td>...</td>\n",
       "      <td>False</td>\n",
       "      <td>False</td>\n",
       "      <td>False</td>\n",
       "      <td>False</td>\n",
       "      <td>False</td>\n",
       "      <td>True</td>\n",
       "      <td>False</td>\n",
       "      <td>False</td>\n",
       "      <td>False</td>\n",
       "      <td>False</td>\n",
       "    </tr>\n",
       "    <tr>\n",
       "      <th>3</th>\n",
       "      <td>2</td>\n",
       "      <td>no-recurrence-events</td>\n",
       "      <td>False</td>\n",
       "      <td>False</td>\n",
       "      <td>False</td>\n",
       "      <td>True</td>\n",
       "      <td>False</td>\n",
       "      <td>False</td>\n",
       "      <td>False</td>\n",
       "      <td>False</td>\n",
       "      <td>...</td>\n",
       "      <td>False</td>\n",
       "      <td>False</td>\n",
       "      <td>False</td>\n",
       "      <td>False</td>\n",
       "      <td>True</td>\n",
       "      <td>False</td>\n",
       "      <td>True</td>\n",
       "      <td>False</td>\n",
       "      <td>False</td>\n",
       "      <td>False</td>\n",
       "    </tr>\n",
       "    <tr>\n",
       "      <th>4</th>\n",
       "      <td>2</td>\n",
       "      <td>no-recurrence-events</td>\n",
       "      <td>False</td>\n",
       "      <td>True</td>\n",
       "      <td>False</td>\n",
       "      <td>False</td>\n",
       "      <td>False</td>\n",
       "      <td>False</td>\n",
       "      <td>True</td>\n",
       "      <td>False</td>\n",
       "      <td>...</td>\n",
       "      <td>False</td>\n",
       "      <td>False</td>\n",
       "      <td>False</td>\n",
       "      <td>False</td>\n",
       "      <td>True</td>\n",
       "      <td>False</td>\n",
       "      <td>False</td>\n",
       "      <td>True</td>\n",
       "      <td>False</td>\n",
       "      <td>False</td>\n",
       "    </tr>\n",
       "  </tbody>\n",
       "</table>\n",
       "<p>5 rows × 32 columns</p>\n",
       "</div>"
      ],
      "text/plain": [
       "   deg-malig                 class  age_30-39  age_40-49  age_50-59  \\\n",
       "0          3  no-recurrence-events       True      False      False   \n",
       "1          2  no-recurrence-events      False       True      False   \n",
       "2          2  no-recurrence-events      False       True      False   \n",
       "3          2  no-recurrence-events      False      False      False   \n",
       "4          2  no-recurrence-events      False       True      False   \n",
       "\n",
       "   age_60-69  age_70-79  menopause_lt40  menopause_premeno  tumor-size_09-May  \\\n",
       "0      False      False           False               True              False   \n",
       "1      False      False           False               True              False   \n",
       "2      False      False           False               True              False   \n",
       "3       True      False           False              False              False   \n",
       "4      False      False           False               True              False   \n",
       "\n",
       "   ...  inv-nodes_14-Dec  inv-nodes_15-17  inv-nodes_24-26  node-caps_yes  \\\n",
       "0  ...             False            False            False          False   \n",
       "1  ...             False            False            False          False   \n",
       "2  ...             False            False            False          False   \n",
       "3  ...             False            False            False          False   \n",
       "4  ...             False            False            False          False   \n",
       "\n",
       "   breast_right  breast-quad_left_low  breast-quad_left_up  \\\n",
       "0         False                  True                False   \n",
       "1          True                 False                False   \n",
       "2         False                  True                False   \n",
       "3          True                 False                 True   \n",
       "4          True                 False                False   \n",
       "\n",
       "   breast-quad_right_low  breast-quad_right_up  irradiat_yes  \n",
       "0                  False                 False         False  \n",
       "1                  False                  True         False  \n",
       "2                  False                 False         False  \n",
       "3                  False                 False         False  \n",
       "4                   True                 False         False  \n",
       "\n",
       "[5 rows x 32 columns]"
      ]
     },
     "execution_count": 7,
     "metadata": {},
     "output_type": "execute_result"
    }
   ],
   "source": [
    "# Step 4: Encoding categorical variables using one-hot encoding for the following columns:\n",
    "# age, menopause, tumor-size, inv-nodes, node-caps, breast, breast-quad, irradiat.\n",
    "df = pd.get_dummies(df, columns=['age', 'menopause', 'tumor-size', 'inv-nodes', 'node-caps', 'breast', 'breast-quad', 'irradiat'], drop_first=True)\n",
    "print(\"First few rows of the encoded dataset:\")\n",
    "df.head()"
   ]
  },
  {
   "cell_type": "markdown",
   "id": "1f2092d9-18cb-43e1-a2d8-791f05f0a33f",
   "metadata": {},
   "source": [
    "### Logistic Regression Model Without Handling Class Imbalance\n",
    "1. Split the dataset into training and test sets.\n",
    "2. Train a Logistic Regression model using the training data.\n",
    "3. Evaluate the model using a classification report, including precision, recall, and F1-score."
   ]
  },
  {
   "cell_type": "code",
   "execution_count": 19,
   "id": "c74ea0a8-f053-4049-af8c-bc13521d77b1",
   "metadata": {},
   "outputs": [
    {
     "name": "stdout",
     "output_type": "stream",
     "text": [
      "Classification Report Without Handling Class Imbalance:\n",
      "                      precision    recall  f1-score   support\n",
      "\n",
      "no-recurrence-events       0.75      0.88      0.81        41\n",
      "   recurrence-events       0.50      0.29      0.37        17\n",
      "\n",
      "            accuracy                           0.71        58\n",
      "           macro avg       0.62      0.59      0.59        58\n",
      "        weighted avg       0.68      0.71      0.68        58\n",
      "\n"
     ]
    }
   ],
   "source": [
    "# Step 1: Split the dataset into training and test sets\n",
    "X = df.drop('class', axis=1)\n",
    "y = df['class']\n",
    "X_train, X_test, y_train, y_test = train_test_split(X, y, test_size=0.2, stratify=y, random_state=42)\n",
    "\n",
    "# Step 2: Train a Logistic Regression model using the training data\n",
    "model = LogisticRegression(max_iter=2000)\n",
    "model.fit(X_train, y_train)\n",
    "\n",
    "# Step 3: Evaluate the model using a classification report, including precision, recall, and F1-score\n",
    "y_pred = model.predict(X_test)\n",
    "report = classification_report(y_test, y_pred)\n",
    "print(\"Classification Report Without Handling Class Imbalance:\")\n",
    "print(report)"
   ]
  },
  {
   "cell_type": "markdown",
   "id": "8970d5ee-0190-4d08-8ee3-87432c545896",
   "metadata": {},
   "source": [
    "### Handling Class Imbalance Using Undersampling\n",
    "1. Apply undersampling to balance the classes in the training data.\n",
    "2. Train a Logistic Regression model using the undersampled training data.\n",
    "3. Evaluate the model using a classification report, including precision, recall, and F1-score."
   ]
  },
  {
   "cell_type": "code",
   "execution_count": 18,
   "id": "4147f138-4b3e-4bfc-9ac1-0b1c4b9a69ec",
   "metadata": {},
   "outputs": [
    {
     "name": "stdout",
     "output_type": "stream",
     "text": [
      "Classification Report with Undersampling:\n",
      "                      precision    recall  f1-score   support\n",
      "\n",
      "no-recurrence-events       0.81      0.54      0.65        41\n",
      "   recurrence-events       0.39      0.71      0.50        17\n",
      "\n",
      "            accuracy                           0.59        58\n",
      "           macro avg       0.60      0.62      0.57        58\n",
      "        weighted avg       0.69      0.59      0.60        58\n",
      "\n"
     ]
    }
   ],
   "source": [
    "# Step 1: Apply undersampling to balance the classes in the training data\n",
    "rus = RandomUnderSampler(random_state=42)\n",
    "X_train_rus, y_train_rus = rus.fit_resample(X_train, y_train)\n",
    "\n",
    "# Step 2: Train a Logistic Regression model using the undersampled training data\n",
    "model_rus = LogisticRegression(max_iter=2000)\n",
    "model_rus.fit(X_train_rus, y_train_rus)\n",
    "\n",
    "# Step 3: Evaluate the model using a classification report, including precision, recall, and F1-score\n",
    "y_pred_rus = model_rus.predict(X_test)\n",
    "report_rus = classification_report(y_test, y_pred_rus)\n",
    "print(\"Classification Report with Undersampling:\")\n",
    "print(report_rus)"
   ]
  },
  {
   "cell_type": "markdown",
   "id": "a9262fb0-dd27-428b-9cb4-705d1d27f356",
   "metadata": {},
   "source": [
    "### Handling Class Imbalance Using SMOTE (Oversampling)\n",
    "1. Apply SMOTE (Synthetic Minority Over-sampling Technique) to balance the classes in the training data.\n",
    "2. Train a Logistic Regression model using the SMOTE-balanced training data.\n",
    "3. Evaluate the model using a classification report, including precision, recall, and F1-score."
   ]
  },
  {
   "cell_type": "code",
   "execution_count": 16,
   "id": "f534e5a9-f13e-43e0-87fa-06ea0bc1e34b",
   "metadata": {},
   "outputs": [
    {
     "name": "stdout",
     "output_type": "stream",
     "text": [
      "Classification Report with SMOTE:\n",
      "                      precision    recall  f1-score   support\n",
      "\n",
      "no-recurrence-events       0.79      0.66      0.72        41\n",
      "   recurrence-events       0.42      0.59      0.49        17\n",
      "\n",
      "            accuracy                           0.64        58\n",
      "           macro avg       0.61      0.62      0.60        58\n",
      "        weighted avg       0.68      0.64      0.65        58\n",
      "\n"
     ]
    }
   ],
   "source": [
    "# Step 1: Apply SMOTE to balance the classes in the training data\n",
    "smote = SMOTE(random_state=42)\n",
    "X_train_smote, y_train_smote = smote.fit_resample(X_train, y_train)\n",
    "\n",
    "# Step 2: Train a Logistic Regression model using the SMOTE-balanced training data\n",
    "model_smote = LogisticRegression(max_iter=200)\n",
    "model_smote.fit(X_train_smote, y_train_smote)\n",
    "\n",
    "# Step 3: Evaluate the model using a classification report, including precision, recall, and F1-score\n",
    "y_pred_smote = model_smote.predict(X_test)\n",
    "report_smote = classification_report(y_test, y_pred_smote)\n",
    "print(\"Classification Report with SMOTE:\")\n",
    "print(report_smote)"
   ]
  },
  {
   "cell_type": "markdown",
   "id": "ec615895-bdb8-45e2-abe3-7c5332f684ca",
   "metadata": {},
   "source": [
    "### Handling Class Imbalance Using SMOTE Tomek Links\n",
    "1. Apply SMOTE Tomek Links to balance the classes in the training data.\n",
    "2. Train a Logistic Regression model using the SMOTE Tomek Links-balanced training data.\n",
    "3. Evaluate the model using a classification report, including precision, recall, and F1-score."
   ]
  },
  {
   "cell_type": "code",
   "execution_count": 17,
   "id": "fb431a43-547c-4a04-a43e-282222ca58e1",
   "metadata": {},
   "outputs": [
    {
     "name": "stdout",
     "output_type": "stream",
     "text": [
      "Classification Report with SMOTE Tomek Links:\n",
      "                      precision    recall  f1-score   support\n",
      "\n",
      "no-recurrence-events       0.79      0.66      0.72        41\n",
      "   recurrence-events       0.42      0.59      0.49        17\n",
      "\n",
      "            accuracy                           0.64        58\n",
      "           macro avg       0.61      0.62      0.60        58\n",
      "        weighted avg       0.68      0.64      0.65        58\n",
      "\n"
     ]
    }
   ],
   "source": [
    "# Step 1: Apply SMOTE Tomek Links to balance the classes in the training data\n",
    "smt = SMOTETomek(random_state=42)\n",
    "X_tomek, y_tomek = smt.fit_resample(X_train, y_train)\n",
    "\n",
    "# Step 2: Train a Logistic Regression model using the SMOTE Tomek Links-balanced training data\n",
    "model_tomek = LogisticRegression(max_iter=2000)\n",
    "model_tomek.fit(X_tomek, y_tomek)\n",
    "\n",
    "# Step 3: Evaluate the model using a classification report, including precision, recall, and F1-score\n",
    "y_pred_tomek = model_tomek.predict(X_test)\n",
    "report_tomek = classification_report(y_test, y_pred_tomek)\n",
    "print(\"Classification Report with SMOTE Tomek Links:\")\n",
    "print(report_tomek)"
   ]
  },
  {
   "cell_type": "code",
   "execution_count": null,
   "id": "618f863e-054f-4d2f-9a42-7d423fff376f",
   "metadata": {},
   "outputs": [],
   "source": []
  }
 ],
 "metadata": {
  "kernelspec": {
   "display_name": "Python 3 (ipykernel)",
   "language": "python",
   "name": "python3"
  },
  "language_info": {
   "codemirror_mode": {
    "name": "ipython",
    "version": 3
   },
   "file_extension": ".py",
   "mimetype": "text/x-python",
   "name": "python",
   "nbconvert_exporter": "python",
   "pygments_lexer": "ipython3",
   "version": "3.12.7"
  }
 },
 "nbformat": 4,
 "nbformat_minor": 5
}
